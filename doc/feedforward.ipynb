{
 "cells": [
  {
   "cell_type": "code",
   "execution_count": 1,
   "metadata": {
    "collapsed": false
   },
   "outputs": [
    {
     "name": "stderr",
     "output_type": "stream",
     "text": [
      "Using TensorFlow backend.\n"
     ]
    }
   ],
   "source": [
    "import numpy as np\n",
    "from keras.models import Sequential\n",
    "from keras.layers import Dense, Activation, Embedding,Flatten, Dropout\n",
    "from keras.optimizers import RMSprop,SGD"
   ]
  },
  {
   "cell_type": "markdown",
   "metadata": {},
   "source": [
    "Lecture des données\n",
    "==================="
   ]
  },
  {
   "cell_type": "code",
   "execution_count": 2,
   "metadata": {
    "collapsed": true
   },
   "outputs": [],
   "source": [
    "raw_dataset = open(\"../data/multiclass2.dat\")"
   ]
  },
  {
   "cell_type": "code",
   "execution_count": 3,
   "metadata": {
    "collapsed": false
   },
   "outputs": [
    {
     "name": "stdout",
     "output_type": "stream",
     "text": [
      "[['x', 'x', 'x', 'A'], ['x', 'x', 'y', 'A'], ['x', 'x', 'z', 'A'], ['x', 'y', 'x', 'D'], ['x', 'y', 'y', 'B'], ['x', 'y', 'z', 'D'], ['x', 'z', 'x', 'D'], ['x', 'z', 'y', 'D'], ['x', 'z', 'z', 'C'], ['y', 'x', 'x', 'A'], ['y', 'x', 'y', 'D'], ['y', 'x', 'z', 'D'], ['y', 'y', 'x', 'B'], ['y', 'y', 'y', 'B'], ['y', 'y', 'z', 'B'], ['y', 'z', 'x', 'D'], ['y', 'z', 'y', 'D'], ['y', 'z', 'z', 'C'], ['z', 'x', 'x', 'A'], ['z', 'x', 'y', 'D'], ['z', 'x', 'z', 'D'], ['z', 'y', 'x', 'D'], ['z', 'y', 'y', 'B'], ['z', 'y', 'z', 'D'], ['z', 'z', 'x', 'C'], ['z', 'z', 'y', 'C'], ['z', 'z', 'z', 'C']]\n"
     ]
    }
   ],
   "source": [
    "dataset = list([ line.split() for line in raw_dataset])\n",
    "print(dataset)"
   ]
  },
  {
   "cell_type": "markdown",
   "metadata": {},
   "source": [
    "Codage des données\n",
    "=================="
   ]
  },
  {
   "cell_type": "code",
   "execution_count": 4,
   "metadata": {
    "collapsed": false,
    "scrolled": true
   },
   "outputs": [
    {
     "name": "stdout",
     "output_type": "stream",
     "text": [
      "{'x': 2, 'z': 1, 'y': 0}\n"
     ]
    }
   ],
   "source": [
    "x_set = set([])\n",
    "for line in dataset:\n",
    "    x_set.update(line[:-1])\n",
    "x_codes =  dict([(x,idx) for idx,x in enumerate(x_set)])\n",
    "print(x_codes)"
   ]
  },
  {
   "cell_type": "code",
   "execution_count": 5,
   "metadata": {
    "collapsed": false
   },
   "outputs": [
    {
     "name": "stdout",
     "output_type": "stream",
     "text": [
      "{'C': 0, 'D': 3, 'A': 2, 'B': 1}\n"
     ]
    }
   ],
   "source": [
    "y_set = set([])\n",
    "for line in dataset:\n",
    "    y_set.add(line[-1])\n",
    "rev_y_codes = list(y_set)\n",
    "y_codes = dict([(y,idx) for (idx,y) in enumerate(rev_y_codes)])\n",
    "print(y_codes)"
   ]
  },
  {
   "cell_type": "code",
   "execution_count": 6,
   "metadata": {
    "collapsed": false
   },
   "outputs": [
    {
     "name": "stdout",
     "output_type": "stream",
     "text": [
      "[[2, 2, 2], [2, 2, 0], [2, 2, 1], [2, 0, 2], [2, 0, 0], [2, 0, 1], [2, 1, 2], [2, 1, 0], [2, 1, 1], [0, 2, 2], [0, 2, 0], [0, 2, 1], [0, 0, 2], [0, 0, 0], [0, 0, 1], [0, 1, 2], [0, 1, 0], [0, 1, 1], [1, 2, 2], [1, 2, 0], [1, 2, 1], [1, 0, 2], [1, 0, 0], [1, 0, 1], [1, 1, 2], [1, 1, 0], [1, 1, 1]]\n",
      "[2, 2, 2, 3, 1, 3, 3, 3, 0, 2, 3, 3, 1, 1, 1, 3, 3, 0, 2, 3, 3, 3, 1, 3, 0, 0, 0]\n"
     ]
    }
   ],
   "source": [
    "X      = list([x_codes[elt] for elt in line[:-1]] for line in dataset)\n",
    "ycodes = list([y_codes[line[-1]] for line in dataset])\n",
    "print(X)\n",
    "print(ycodes)"
   ]
  },
  {
   "cell_type": "markdown",
   "metadata": {},
   "source": [
    "Keras attend une matrice de valeurs Y..."
   ]
  },
  {
   "cell_type": "code",
   "execution_count": 7,
   "metadata": {
    "collapsed": false,
    "scrolled": true
   },
   "outputs": [
    {
     "name": "stdout",
     "output_type": "stream",
     "text": [
      "[[ 0.  0.  1.  0.]\n",
      " [ 0.  0.  1.  0.]\n",
      " [ 0.  0.  1.  0.]\n",
      " [ 0.  0.  0.  1.]\n",
      " [ 0.  1.  0.  0.]\n",
      " [ 0.  0.  0.  1.]\n",
      " [ 0.  0.  0.  1.]\n",
      " [ 0.  0.  0.  1.]\n",
      " [ 1.  0.  0.  0.]\n",
      " [ 0.  0.  1.  0.]\n",
      " [ 0.  0.  0.  1.]\n",
      " [ 0.  0.  0.  1.]\n",
      " [ 0.  1.  0.  0.]\n",
      " [ 0.  1.  0.  0.]\n",
      " [ 0.  1.  0.  0.]\n",
      " [ 0.  0.  0.  1.]\n",
      " [ 0.  0.  0.  1.]\n",
      " [ 1.  0.  0.  0.]\n",
      " [ 0.  0.  1.  0.]\n",
      " [ 0.  0.  0.  1.]\n",
      " [ 0.  0.  0.  1.]\n",
      " [ 0.  0.  0.  1.]\n",
      " [ 0.  1.  0.  0.]\n",
      " [ 0.  0.  0.  1.]\n",
      " [ 1.  0.  0.  0.]\n",
      " [ 1.  0.  0.  0.]\n",
      " [ 1.  0.  0.  0.]]\n"
     ]
    }
   ],
   "source": [
    "Y = np.zeros((len(dataset),len(y_codes)))\n",
    "for (idx,elt) in enumerate(ycodes):\n",
    "    Y[idx,elt] = 1.0\n",
    "print(Y)"
   ]
  },
  {
   "cell_type": "markdown",
   "metadata": {},
   "source": [
    "Structure du modèle\n",
    "==================="
   ]
  },
  {
   "cell_type": "code",
   "execution_count": 8,
   "metadata": {
    "collapsed": true
   },
   "outputs": [],
   "source": [
    "x_size = len(x_codes)\n",
    "y_size = len(y_codes)\n",
    "embedding_size = 2\n",
    "hidden_size    = 3\n",
    "model = Sequential()\n",
    "model.add(Embedding(x_size,embedding_size,input_length=3)) #3 x symbols predict an Y\n",
    "model.add(Flatten()) \n",
    "model.add(Dense(hidden_size))\n",
    "model.add(Activation('tanh'))\n",
    "model.add(Dense(y_size))\n",
    "model.add(Activation('softmax'))"
   ]
  },
  {
   "cell_type": "markdown",
   "metadata": {},
   "source": [
    "Descente de gradient\n",
    "===================="
   ]
  },
  {
   "cell_type": "code",
   "execution_count": 9,
   "metadata": {
    "collapsed": false,
    "scrolled": true
   },
   "outputs": [
    {
     "name": "stdout",
     "output_type": "stream",
     "text": [
      "Epoch 1/50\n",
      "27/27 [==============================] - 0s - loss: 1.3865 - acc: 0.1111\n",
      "Epoch 2/50\n",
      "27/27 [==============================] - 0s - loss: 1.3298 - acc: 0.4444\n",
      "Epoch 3/50\n",
      "27/27 [==============================] - 0s - loss: 1.1247 - acc: 0.5926\n",
      "Epoch 4/50\n",
      "27/27 [==============================] - 0s - loss: 0.9553 - acc: 0.6296\n",
      "Epoch 5/50\n",
      "27/27 [==============================] - 0s - loss: 0.8848 - acc: 0.6667\n",
      "Epoch 6/50\n",
      "27/27 [==============================] - 0s - loss: 0.7728 - acc: 0.6667\n",
      "Epoch 7/50\n",
      "27/27 [==============================] - 0s - loss: 0.6837 - acc: 0.7037\n",
      "Epoch 8/50\n",
      "27/27 [==============================] - 0s - loss: 0.6168 - acc: 0.8519\n",
      "Epoch 9/50\n",
      "27/27 [==============================] - 0s - loss: 0.5696 - acc: 0.8889\n",
      "Epoch 10/50\n",
      "27/27 [==============================] - 0s - loss: 0.5305 - acc: 0.8889\n",
      "Epoch 11/50\n",
      "27/27 [==============================] - 0s - loss: 0.5075 - acc: 0.9259\n",
      "Epoch 12/50\n",
      "27/27 [==============================] - 0s - loss: 0.4951 - acc: 0.7778\n",
      "Epoch 13/50\n",
      "27/27 [==============================] - 0s - loss: 0.4565 - acc: 0.8889\n",
      "Epoch 14/50\n",
      "27/27 [==============================] - 0s - loss: 0.4271 - acc: 0.8889\n",
      "Epoch 15/50\n",
      "27/27 [==============================] - 0s - loss: 0.3875 - acc: 0.8889\n",
      "Epoch 16/50\n",
      "27/27 [==============================] - 0s - loss: 0.3490 - acc: 0.9630\n",
      "Epoch 17/50\n",
      "27/27 [==============================] - 0s - loss: 0.3256 - acc: 0.9630\n",
      "Epoch 18/50\n",
      "27/27 [==============================] - 0s - loss: 0.2802 - acc: 1.0000\n",
      "Epoch 19/50\n",
      "27/27 [==============================] - 0s - loss: 0.2551 - acc: 1.0000\n",
      "Epoch 20/50\n",
      "27/27 [==============================] - 0s - loss: 0.2257 - acc: 1.0000\n",
      "Epoch 21/50\n",
      "27/27 [==============================] - 0s - loss: 0.2052 - acc: 1.0000\n",
      "Epoch 22/50\n",
      "27/27 [==============================] - 0s - loss: 0.1870 - acc: 1.0000\n",
      "Epoch 23/50\n",
      "27/27 [==============================] - 0s - loss: 0.1689 - acc: 1.0000\n",
      "Epoch 24/50\n",
      "27/27 [==============================] - 0s - loss: 0.1535 - acc: 1.0000\n",
      "Epoch 25/50\n",
      "27/27 [==============================] - 0s - loss: 0.1426 - acc: 1.0000\n",
      "Epoch 26/50\n",
      "27/27 [==============================] - 0s - loss: 0.1339 - acc: 1.0000\n",
      "Epoch 27/50\n",
      "27/27 [==============================] - 0s - loss: 0.1267 - acc: 1.0000\n",
      "Epoch 28/50\n",
      "27/27 [==============================] - 0s - loss: 0.1210 - acc: 1.0000\n",
      "Epoch 29/50\n",
      "27/27 [==============================] - 0s - loss: 0.1120 - acc: 1.0000\n",
      "Epoch 30/50\n",
      "27/27 [==============================] - 0s - loss: 0.1042 - acc: 1.0000\n",
      "Epoch 31/50\n",
      "27/27 [==============================] - 0s - loss: 0.0981 - acc: 1.0000\n",
      "Epoch 32/50\n",
      "27/27 [==============================] - 0s - loss: 0.0926 - acc: 1.0000\n",
      "Epoch 33/50\n",
      "27/27 [==============================] - 0s - loss: 0.0874 - acc: 1.0000\n",
      "Epoch 34/50\n",
      "27/27 [==============================] - 0s - loss: 0.0826 - acc: 1.0000\n",
      "Epoch 35/50\n",
      "27/27 [==============================] - 0s - loss: 0.0781 - acc: 1.0000\n",
      "Epoch 36/50\n",
      "27/27 [==============================] - 0s - loss: 0.0739 - acc: 1.0000\n",
      "Epoch 37/50\n",
      "27/27 [==============================] - 0s - loss: 0.0700 - acc: 1.0000\n",
      "Epoch 38/50\n",
      "27/27 [==============================] - 0s - loss: 0.0664 - acc: 1.0000\n",
      "Epoch 39/50\n",
      "27/27 [==============================] - 0s - loss: 0.0629 - acc: 1.0000\n",
      "Epoch 40/50\n",
      "27/27 [==============================] - 0s - loss: 0.0597 - acc: 1.0000\n",
      "Epoch 41/50\n",
      "27/27 [==============================] - 0s - loss: 0.0567 - acc: 1.0000\n",
      "Epoch 42/50\n",
      "27/27 [==============================] - 0s - loss: 0.0539 - acc: 1.0000\n",
      "Epoch 43/50\n",
      "27/27 [==============================] - 0s - loss: 0.0514 - acc: 1.0000\n",
      "Epoch 44/50\n",
      "27/27 [==============================] - 0s - loss: 0.0492 - acc: 1.0000\n",
      "Epoch 45/50\n",
      "27/27 [==============================] - 0s - loss: 0.0474 - acc: 1.0000\n",
      "Epoch 46/50\n",
      "27/27 [==============================] - 0s - loss: 0.0449 - acc: 1.0000\n",
      "Epoch 47/50\n",
      "27/27 [==============================] - 0s - loss: 0.0421 - acc: 1.0000\n",
      "Epoch 48/50\n",
      "27/27 [==============================] - 0s - loss: 0.0401 - acc: 1.0000\n",
      "Epoch 49/50\n",
      "27/27 [==============================] - 0s - loss: 0.0381 - acc: 1.0000\n",
      "Epoch 50/50\n",
      "27/27 [==============================] - 0s - loss: 0.0362 - acc: 1.0000\n"
     ]
    },
    {
     "data": {
      "text/plain": [
       "<keras.callbacks.History at 0x11df68f98>"
      ]
     },
     "execution_count": 9,
     "metadata": {},
     "output_type": "execute_result"
    }
   ],
   "source": [
    "sgd = RMSprop(lr=0.1)\n",
    "model.compile(optimizer=sgd,loss='categorical_crossentropy',metrics=['accuracy'])\n",
    "model.fit(X,Y,epochs=50)"
   ]
  },
  {
   "cell_type": "markdown",
   "metadata": {},
   "source": [
    "Test \n",
    "===="
   ]
  },
  {
   "cell_type": "markdown",
   "metadata": {},
   "source": [
    "On commence par coder numériquement les données..."
   ]
  },
  {
   "cell_type": "code",
   "execution_count": 10,
   "metadata": {
    "collapsed": false
   },
   "outputs": [
    {
     "name": "stdout",
     "output_type": "stream",
     "text": [
      "[[2, 2, 0], [1, 0, 0]]\n"
     ]
    }
   ],
   "source": [
    "test_set = [['x','x','y'],['z','y','y']]\n",
    "testX = list([[x_codes[elt] for elt in line] for line in test_set])\n",
    "print(testX)"
   ]
  },
  {
   "cell_type": "markdown",
   "metadata": {},
   "source": [
    "On réalise l'ensemble des prédictions en une fois..."
   ]
  },
  {
   "cell_type": "code",
   "execution_count": 11,
   "metadata": {
    "collapsed": false
   },
   "outputs": [
    {
     "data": {
      "text/plain": [
       "array([[  4.50881430e-07,   2.81450957e-06,   9.61334884e-01,\n",
       "          3.86618860e-02],\n",
       "       [  5.57058491e-04,   9.92498577e-01,   1.05758372e-04,\n",
       "          6.83863275e-03]], dtype=float32)"
      ]
     },
     "execution_count": 11,
     "metadata": {},
     "output_type": "execute_result"
    }
   ],
   "source": [
    "model.predict(testX)"
   ]
  },
  {
   "cell_type": "markdown",
   "metadata": {},
   "source": [
    "On applique une règle de décision et on décode la représentation numérique (le plus haut score l'emporte)..."
   ]
  },
  {
   "cell_type": "code",
   "execution_count": 12,
   "metadata": {
    "collapsed": false
   },
   "outputs": [
    {
     "name": "stdout",
     "output_type": "stream",
     "text": [
      "['A', 'B']\n"
     ]
    }
   ],
   "source": [
    "probs = model.predict(testX)\n",
    "Yvals = [rev_y_codes[np.argmax(line)] for line in probs]\n",
    "print(Yvals)"
   ]
  }
 ],
 "metadata": {
  "anaconda-cloud": {},
  "kernelspec": {
   "display_name": "Python [py35]",
   "language": "python",
   "name": "Python [py35]"
  },
  "language_info": {
   "codemirror_mode": {
    "name": "ipython",
    "version": 3
   },
   "file_extension": ".py",
   "mimetype": "text/x-python",
   "name": "python",
   "nbconvert_exporter": "python",
   "pygments_lexer": "ipython3",
   "version": "3.5.2"
  }
 },
 "nbformat": 4,
 "nbformat_minor": 0
}
