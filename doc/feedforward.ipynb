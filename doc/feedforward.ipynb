{
 "cells": [
  {
   "cell_type": "code",
   "execution_count": 1,
   "metadata": {
    "collapsed": false
   },
   "outputs": [
    {
     "name": "stderr",
     "output_type": "stream",
     "text": [
      "Using TensorFlow backend.\n"
     ]
    }
   ],
   "source": [
    "import numpy as np\n",
    "from keras.models import Sequential\n",
    "from keras.layers import Dense, Activation, Embedding,Flatten, Dropout\n",
    "from keras.optimizers import RMSprop,SGD"
   ]
  },
  {
   "cell_type": "markdown",
   "metadata": {},
   "source": [
    "Lecture des données\n",
    "==================="
   ]
  },
  {
   "cell_type": "code",
   "execution_count": 2,
   "metadata": {
    "collapsed": true
   },
   "outputs": [],
   "source": [
    "raw_dataset = open(\"../data/multiclass2.dat\")"
   ]
  },
  {
   "cell_type": "code",
   "execution_count": 3,
   "metadata": {
    "collapsed": false
   },
   "outputs": [
    {
     "name": "stdout",
     "output_type": "stream",
     "text": [
      "[['x', 'x', 'x', 'A'], ['x', 'x', 'y', 'A'], ['x', 'x', 'z', 'A'], ['x', 'y', 'x', 'D'], ['x', 'y', 'y', 'B'], ['x', 'y', 'z', 'D'], ['x', 'z', 'x', 'D'], ['x', 'z', 'y', 'D'], ['x', 'z', 'z', 'C'], ['y', 'x', 'x', 'A'], ['y', 'x', 'y', 'D'], ['y', 'x', 'z', 'D'], ['y', 'y', 'x', 'B'], ['y', 'y', 'y', 'B'], ['y', 'y', 'z', 'B'], ['y', 'z', 'x', 'D'], ['y', 'z', 'y', 'D'], ['y', 'z', 'z', 'C'], ['z', 'x', 'x', 'A'], ['z', 'x', 'y', 'D'], ['z', 'x', 'z', 'D'], ['z', 'y', 'x', 'D'], ['z', 'y', 'y', 'B'], ['z', 'y', 'z', 'D'], ['z', 'z', 'x', 'C'], ['z', 'z', 'y', 'C'], ['z', 'z', 'z', 'C']]\n"
     ]
    }
   ],
   "source": [
    "dataset = list([ line.split() for line in raw_dataset])\n",
    "print(dataset)"
   ]
  },
  {
   "cell_type": "markdown",
   "metadata": {},
   "source": [
    "Codage des données\n",
    "=================="
   ]
  },
  {
   "cell_type": "code",
   "execution_count": 4,
   "metadata": {
    "collapsed": false,
    "scrolled": true
   },
   "outputs": [
    {
     "name": "stdout",
     "output_type": "stream",
     "text": [
      "{'z': 0, 'y': 1, 'x': 2}\n"
     ]
    }
   ],
   "source": [
    "x_set = set([])\n",
    "for line in dataset:\n",
    "    x_set.update(line[:-1])\n",
    "x_codes =  dict([(x,idx) for idx,x in enumerate(x_set)])\n",
    "print(x_codes)"
   ]
  },
  {
   "cell_type": "code",
   "execution_count": 5,
   "metadata": {
    "collapsed": false
   },
   "outputs": [
    {
     "name": "stdout",
     "output_type": "stream",
     "text": [
      "{'D': 0, 'A': 1, 'C': 3, 'B': 2}\n"
     ]
    }
   ],
   "source": [
    "y_set = set([])\n",
    "for line in dataset:\n",
    "    y_set.add(line[-1])\n",
    "rev_y_codes = list(y_set)\n",
    "y_codes = dict([(y,idx) for (idx,y) in enumerate(rev_y_codes)])\n",
    "print(y_codes)"
   ]
  },
  {
   "cell_type": "code",
   "execution_count": 6,
   "metadata": {
    "collapsed": false
   },
   "outputs": [
    {
     "name": "stdout",
     "output_type": "stream",
     "text": [
      "[[2, 2, 2], [2, 2, 1], [2, 2, 0], [2, 1, 2], [2, 1, 1], [2, 1, 0], [2, 0, 2], [2, 0, 1], [2, 0, 0], [1, 2, 2], [1, 2, 1], [1, 2, 0], [1, 1, 2], [1, 1, 1], [1, 1, 0], [1, 0, 2], [1, 0, 1], [1, 0, 0], [0, 2, 2], [0, 2, 1], [0, 2, 0], [0, 1, 2], [0, 1, 1], [0, 1, 0], [0, 0, 2], [0, 0, 1], [0, 0, 0]]\n",
      "[1, 1, 1, 0, 2, 0, 0, 0, 3, 1, 0, 0, 2, 2, 2, 0, 0, 3, 1, 0, 0, 0, 2, 0, 3, 3, 3]\n"
     ]
    }
   ],
   "source": [
    "X      = list([x_codes[elt] for elt in line[:-1]] for line in dataset)\n",
    "ycodes = list([y_codes[line[-1]] for line in dataset])\n",
    "print(X)\n",
    "print(ycodes)"
   ]
  },
  {
   "cell_type": "markdown",
   "metadata": {},
   "source": [
    "Keras attend une matrice de valeurs Y..."
   ]
  },
  {
   "cell_type": "code",
   "execution_count": 7,
   "metadata": {
    "collapsed": false
   },
   "outputs": [
    {
     "name": "stdout",
     "output_type": "stream",
     "text": [
      "[[ 0.  1.  0.  0.]\n",
      " [ 0.  1.  0.  0.]\n",
      " [ 0.  1.  0.  0.]\n",
      " [ 1.  0.  0.  0.]\n",
      " [ 0.  0.  1.  0.]\n",
      " [ 1.  0.  0.  0.]\n",
      " [ 1.  0.  0.  0.]\n",
      " [ 1.  0.  0.  0.]\n",
      " [ 0.  0.  0.  1.]\n",
      " [ 0.  1.  0.  0.]\n",
      " [ 1.  0.  0.  0.]\n",
      " [ 1.  0.  0.  0.]\n",
      " [ 0.  0.  1.  0.]\n",
      " [ 0.  0.  1.  0.]\n",
      " [ 0.  0.  1.  0.]\n",
      " [ 1.  0.  0.  0.]\n",
      " [ 1.  0.  0.  0.]\n",
      " [ 0.  0.  0.  1.]\n",
      " [ 0.  1.  0.  0.]\n",
      " [ 1.  0.  0.  0.]\n",
      " [ 1.  0.  0.  0.]\n",
      " [ 1.  0.  0.  0.]\n",
      " [ 0.  0.  1.  0.]\n",
      " [ 1.  0.  0.  0.]\n",
      " [ 0.  0.  0.  1.]\n",
      " [ 0.  0.  0.  1.]\n",
      " [ 0.  0.  0.  1.]]\n"
     ]
    }
   ],
   "source": [
    "Y = np.zeros((len(dataset),len(y_codes)))\n",
    "for (idx,elt) in enumerate(ycodes):\n",
    "    Y[idx,elt] = 1.0\n",
    "print(Y)"
   ]
  },
  {
   "cell_type": "markdown",
   "metadata": {},
   "source": [
    "Structure du modèle\n",
    "==================="
   ]
  },
  {
   "cell_type": "code",
   "execution_count": 8,
   "metadata": {
    "collapsed": true
   },
   "outputs": [],
   "source": [
    "x_size = len(x_codes)\n",
    "y_size = len(y_codes)\n",
    "embedding_size = 2\n",
    "hidden_size    = 3\n",
    "model = Sequential()\n",
    "model.add(Embedding(x_size,embedding_size,input_length=3)) #3 x symbols predict an Y\n",
    "model.add(Flatten()) \n",
    "model.add(Dense(hidden_size))\n",
    "model.add(Activation('tanh'))\n",
    "model.add(Dense(y_size))\n",
    "model.add(Activation('softmax'))"
   ]
  },
  {
   "cell_type": "markdown",
   "metadata": {},
   "source": [
    "Descente de gradient\n",
    "===================="
   ]
  },
  {
   "cell_type": "code",
   "execution_count": 9,
   "metadata": {
    "collapsed": false
   },
   "outputs": [
    {
     "name": "stdout",
     "output_type": "stream",
     "text": [
      "Epoch 1/5\n",
      "27/27 [==============================] - 0s - loss: 1.3932 - acc: 0.1852\n",
      "Epoch 2/5\n",
      "27/27 [==============================] - 0s - loss: 1.3932 - acc: 0.1852\n",
      "Epoch 3/5\n",
      "27/27 [==============================] - 0s - loss: 1.3931 - acc: 0.1852\n",
      "Epoch 4/5\n",
      "27/27 [==============================] - 0s - loss: 1.3931 - acc: 0.1852\n",
      "Epoch 5/5\n",
      "27/27 [==============================] - 0s - loss: 1.3931 - acc: 0.1852\n"
     ]
    },
    {
     "data": {
      "text/plain": [
       "<keras.callbacks.History at 0x11eeee978>"
      ]
     },
     "execution_count": 9,
     "metadata": {},
     "output_type": "execute_result"
    }
   ],
   "source": [
    "sgd = SGD(lr=0.0001)\n",
    "model.compile(optimizer=sgd,loss='categorical_crossentropy',metrics=['accuracy'])\n",
    "model.fit(X,Y,epochs=5)"
   ]
  },
  {
   "cell_type": "markdown",
   "metadata": {},
   "source": [
    "Test \n",
    "===="
   ]
  },
  {
   "cell_type": "markdown",
   "metadata": {},
   "source": [
    "On commence par coder numériquement les données..."
   ]
  },
  {
   "cell_type": "code",
   "execution_count": 10,
   "metadata": {
    "collapsed": false
   },
   "outputs": [
    {
     "name": "stdout",
     "output_type": "stream",
     "text": [
      "[[2, 2, 1], [0, 1, 1]]\n"
     ]
    }
   ],
   "source": [
    "test_set = [['x','x','y'],['z','y','y']]\n",
    "testX = list([[x_codes[elt] for elt in line] for line in test_set])\n",
    "print(testX)"
   ]
  },
  {
   "cell_type": "markdown",
   "metadata": {},
   "source": [
    "On réalise l'ensemble des prédictions en une fois..."
   ]
  },
  {
   "cell_type": "code",
   "execution_count": 11,
   "metadata": {
    "collapsed": false
   },
   "outputs": [
    {
     "data": {
      "text/plain": [
       "array([[ 0.25188926,  0.24439578,  0.25007284,  0.25364208],\n",
       "       [ 0.24828842,  0.25700322,  0.25226   ,  0.24244834]], dtype=float32)"
      ]
     },
     "execution_count": 11,
     "metadata": {},
     "output_type": "execute_result"
    }
   ],
   "source": [
    "model.predict(testX)"
   ]
  },
  {
   "cell_type": "markdown",
   "metadata": {},
   "source": [
    "On applique une règle de décision et on décode la représentation numérique (le plus haut score l'emporte)..."
   ]
  },
  {
   "cell_type": "code",
   "execution_count": 12,
   "metadata": {
    "collapsed": false
   },
   "outputs": [
    {
     "name": "stdout",
     "output_type": "stream",
     "text": [
      "['C', 'A']\n"
     ]
    }
   ],
   "source": [
    "probs = model.predict(testX)\n",
    "Yvals = [rev_y_codes[np.argmax(line)] for line in probs]\n",
    "print(Yvals)"
   ]
  }
 ],
 "metadata": {
  "anaconda-cloud": {},
  "kernelspec": {
   "display_name": "Python [py35]",
   "language": "python",
   "name": "Python [py35]"
  },
  "language_info": {
   "codemirror_mode": {
    "name": "ipython",
    "version": 3
   },
   "file_extension": ".py",
   "mimetype": "text/x-python",
   "name": "python",
   "nbconvert_exporter": "python",
   "pygments_lexer": "ipython3",
   "version": "3.5.2"
  }
 },
 "nbformat": 4,
 "nbformat_minor": 0
}
