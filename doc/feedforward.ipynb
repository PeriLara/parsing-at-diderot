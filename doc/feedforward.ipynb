{
 "cells": [
  {
   "cell_type": "code",
   "execution_count": 1,
   "metadata": {
    "collapsed": false
   },
   "outputs": [
    {
     "name": "stderr",
     "output_type": "stream",
     "text": [
      "Using TensorFlow backend.\n"
     ]
    }
   ],
   "source": [
    "import numpy as np\n",
    "from keras.models import Sequential\n",
    "from keras.layers import Dense, Activation, Embedding,Flatten, Dropout\n",
    "from keras.optimizers import RMSprop"
   ]
  },
  {
   "cell_type": "markdown",
   "metadata": {},
   "source": [
    "Lecture des données\n",
    "==================="
   ]
  },
  {
   "cell_type": "code",
   "execution_count": 2,
   "metadata": {
    "collapsed": true
   },
   "outputs": [],
   "source": [
    "raw_dataset = open(\"../data/multiclass2.dat\")"
   ]
  },
  {
   "cell_type": "code",
   "execution_count": 3,
   "metadata": {
    "collapsed": false
   },
   "outputs": [
    {
     "name": "stdout",
     "output_type": "stream",
     "text": [
      "[['x', 'x', 'x', 'A'], ['x', 'x', 'y', 'A'], ['x', 'x', 'z', 'A'], ['x', 'y', 'x', 'D'], ['x', 'y', 'y', 'B'], ['x', 'y', 'z', 'D'], ['x', 'z', 'x', 'D'], ['x', 'z', 'y', 'D'], ['x', 'z', 'z', 'C'], ['y', 'x', 'x', 'A'], ['y', 'x', 'y', 'D'], ['y', 'x', 'z', 'D'], ['y', 'y', 'x', 'B'], ['y', 'y', 'y', 'B'], ['y', 'y', 'z', 'B'], ['y', 'z', 'x', 'D'], ['y', 'z', 'y', 'D'], ['y', 'z', 'z', 'C'], ['z', 'x', 'x', 'A'], ['z', 'x', 'y', 'D'], ['z', 'x', 'z', 'D'], ['z', 'y', 'x', 'D'], ['z', 'y', 'y', 'B'], ['z', 'y', 'z', 'D'], ['z', 'z', 'x', 'C'], ['z', 'z', 'y', 'C'], ['z', 'z', 'z', 'C']]\n"
     ]
    }
   ],
   "source": [
    "dataset = list([ line.split() for line in raw_dataset])\n",
    "print(dataset)"
   ]
  },
  {
   "cell_type": "markdown",
   "metadata": {},
   "source": [
    "Codage des données\n",
    "=================="
   ]
  },
  {
   "cell_type": "code",
   "execution_count": 4,
   "metadata": {
    "collapsed": false,
    "scrolled": true
   },
   "outputs": [
    {
     "name": "stdout",
     "output_type": "stream",
     "text": [
      "{'z': 0, 'x': 1, 'y': 2}\n"
     ]
    }
   ],
   "source": [
    "x_set = set([])\n",
    "for line in dataset:\n",
    "    x_set.update(line[:-1])\n",
    "x_codes =  dict([(x,idx) for idx,x in enumerate(x_set)])\n",
    "print(x_codes)"
   ]
  },
  {
   "cell_type": "code",
   "execution_count": 5,
   "metadata": {
    "collapsed": false
   },
   "outputs": [
    {
     "name": "stdout",
     "output_type": "stream",
     "text": [
      "{'B': 0, 'D': 1, 'A': 2, 'C': 3}\n"
     ]
    }
   ],
   "source": [
    "y_set = set([])\n",
    "for line in dataset:\n",
    "    y_set.add(line[-1])\n",
    "rev_y_codes = list(y_set)\n",
    "y_codes = dict([(y,idx) for (idx,y) in enumerate(rev_y_codes)])\n",
    "print(y_codes)"
   ]
  },
  {
   "cell_type": "code",
   "execution_count": 6,
   "metadata": {
    "collapsed": false
   },
   "outputs": [
    {
     "name": "stdout",
     "output_type": "stream",
     "text": [
      "[[1, 1, 1], [1, 1, 2], [1, 1, 0], [1, 2, 1], [1, 2, 2], [1, 2, 0], [1, 0, 1], [1, 0, 2], [1, 0, 0], [2, 1, 1], [2, 1, 2], [2, 1, 0], [2, 2, 1], [2, 2, 2], [2, 2, 0], [2, 0, 1], [2, 0, 2], [2, 0, 0], [0, 1, 1], [0, 1, 2], [0, 1, 0], [0, 2, 1], [0, 2, 2], [0, 2, 0], [0, 0, 1], [0, 0, 2], [0, 0, 0]]\n",
      "[2, 2, 2, 1, 0, 1, 1, 1, 3, 2, 1, 1, 0, 0, 0, 1, 1, 3, 2, 1, 1, 1, 0, 1, 3, 3, 3]\n"
     ]
    }
   ],
   "source": [
    "X      = list([x_codes[elt] for elt in line[:-1]] for line in dataset)\n",
    "ycodes = list([y_codes[line[-1]] for line in dataset])\n",
    "print(X)\n",
    "print(ycodes)"
   ]
  },
  {
   "cell_type": "markdown",
   "metadata": {},
   "source": [
    "Keras attend une matrice de valeurs Y..."
   ]
  },
  {
   "cell_type": "code",
   "execution_count": 8,
   "metadata": {
    "collapsed": false
   },
   "outputs": [
    {
     "name": "stdout",
     "output_type": "stream",
     "text": [
      "[[ 0.  0.  1.  0.]\n",
      " [ 0.  0.  1.  0.]\n",
      " [ 0.  0.  1.  0.]\n",
      " [ 0.  1.  0.  0.]\n",
      " [ 1.  0.  0.  0.]\n",
      " [ 0.  1.  0.  0.]\n",
      " [ 0.  1.  0.  0.]\n",
      " [ 0.  1.  0.  0.]\n",
      " [ 0.  0.  0.  1.]\n",
      " [ 0.  0.  1.  0.]\n",
      " [ 0.  1.  0.  0.]\n",
      " [ 0.  1.  0.  0.]\n",
      " [ 1.  0.  0.  0.]\n",
      " [ 1.  0.  0.  0.]\n",
      " [ 1.  0.  0.  0.]\n",
      " [ 0.  1.  0.  0.]\n",
      " [ 0.  1.  0.  0.]\n",
      " [ 0.  0.  0.  1.]\n",
      " [ 0.  0.  1.  0.]\n",
      " [ 0.  1.  0.  0.]\n",
      " [ 0.  1.  0.  0.]\n",
      " [ 0.  1.  0.  0.]\n",
      " [ 1.  0.  0.  0.]\n",
      " [ 0.  1.  0.  0.]\n",
      " [ 0.  0.  0.  1.]\n",
      " [ 0.  0.  0.  1.]\n",
      " [ 0.  0.  0.  1.]]\n"
     ]
    }
   ],
   "source": [
    "Y = np.zeros((len(dataset),len(y_codes)))\n",
    "for (idx,elt) in enumerate(ycodes):\n",
    "    Y[idx,elt] = 1.0\n",
    "print(Y)"
   ]
  },
  {
   "cell_type": "markdown",
   "metadata": {},
   "source": [
    "Structure du modèle\n",
    "==================="
   ]
  },
  {
   "cell_type": "code",
   "execution_count": 16,
   "metadata": {
    "collapsed": true
   },
   "outputs": [],
   "source": [
    "x_size = len(x_codes)\n",
    "y_size = len(y_codes)\n",
    "embedding_size = 2\n",
    "hidden_size    = 3\n",
    "model = Sequential()\n",
    "model.add(Embedding(x_size,embedding_size,input_length=3)) #3 x symbols predict an Y\n",
    "model.add(Flatten()) \n",
    "model.add(Dense(hidden_size))\n",
    "model.add(Activation('tanh'))\n",
    "model.add(Dense(y_size))\n",
    "model.add(Activation('softmax'))"
   ]
  },
  {
   "cell_type": "markdown",
   "metadata": {},
   "source": [
    "Descente de gradient\n",
    "===================="
   ]
  },
  {
   "cell_type": "code",
   "execution_count": 15,
   "metadata": {
    "collapsed": false
   },
   "outputs": [
    {
     "name": "stdout",
     "output_type": "stream",
     "text": [
      "Epoch 1/50\n",
      "27/27 [==============================] - 0s - loss: 1.2322 - acc: 0.4444\n",
      "Epoch 2/50\n",
      "27/27 [==============================] - 0s - loss: 1.0387 - acc: 0.5556\n",
      "Epoch 3/50\n",
      "27/27 [==============================] - 0s - loss: 0.9674 - acc: 0.6296\n",
      "Epoch 4/50\n",
      "27/27 [==============================] - 0s - loss: 0.8934 - acc: 0.5926\n",
      "Epoch 5/50\n",
      "27/27 [==============================] - 0s - loss: 0.7026 - acc: 0.7407\n",
      "Epoch 6/50\n",
      "27/27 [==============================] - 0s - loss: 0.6230 - acc: 0.7407\n",
      "Epoch 7/50\n",
      "27/27 [==============================] - 0s - loss: 0.6725 - acc: 0.8148\n",
      "Epoch 8/50\n",
      "27/27 [==============================] - 0s - loss: 0.6551 - acc: 0.7037\n",
      "Epoch 9/50\n",
      "27/27 [==============================] - 0s - loss: 0.5766 - acc: 0.8519\n",
      "Epoch 10/50\n",
      "27/27 [==============================] - 0s - loss: 0.5046 - acc: 0.8148\n",
      "Epoch 11/50\n",
      "27/27 [==============================] - 0s - loss: 0.4680 - acc: 0.8889\n",
      "Epoch 12/50\n",
      "27/27 [==============================] - 0s - loss: 0.4530 - acc: 0.9259\n",
      "Epoch 13/50\n",
      "27/27 [==============================] - 0s - loss: 0.4389 - acc: 0.9259\n",
      "Epoch 14/50\n",
      "27/27 [==============================] - 0s - loss: 0.4410 - acc: 0.9259\n",
      "Epoch 15/50\n",
      "27/27 [==============================] - 0s - loss: 0.4639 - acc: 0.7778\n",
      "Epoch 16/50\n",
      "27/27 [==============================] - 0s - loss: 0.4263 - acc: 0.8519\n",
      "Epoch 17/50\n",
      "27/27 [==============================] - 0s - loss: 0.4008 - acc: 0.9259\n",
      "Epoch 18/50\n",
      "27/27 [==============================] - 0s - loss: 0.3585 - acc: 0.8889\n",
      "Epoch 19/50\n",
      "27/27 [==============================] - 0s - loss: 0.3325 - acc: 0.9259\n",
      "Epoch 20/50\n",
      "27/27 [==============================] - 0s - loss: 0.3197 - acc: 0.8889\n",
      "Epoch 21/50\n",
      "27/27 [==============================] - 0s - loss: 0.3089 - acc: 0.9259\n",
      "Epoch 22/50\n",
      "27/27 [==============================] - 0s - loss: 0.3093 - acc: 0.8889\n",
      "Epoch 23/50\n",
      "27/27 [==============================] - 0s - loss: 0.3053 - acc: 0.9259\n",
      "Epoch 24/50\n",
      "27/27 [==============================] - 0s - loss: 0.2866 - acc: 0.8889\n",
      "Epoch 25/50\n",
      "27/27 [==============================] - 0s - loss: 0.2637 - acc: 0.9630\n",
      "Epoch 26/50\n",
      "27/27 [==============================] - 0s - loss: 0.2476 - acc: 0.8889\n",
      "Epoch 27/50\n",
      "27/27 [==============================] - 0s - loss: 0.2420 - acc: 0.9630\n",
      "Epoch 28/50\n",
      "27/27 [==============================] - 0s - loss: 0.2341 - acc: 0.9259\n",
      "Epoch 29/50\n",
      "27/27 [==============================] - 0s - loss: 0.2828 - acc: 0.8889\n",
      "Epoch 30/50\n",
      "27/27 [==============================] - 0s - loss: 0.4491 - acc: 0.7407\n",
      "Epoch 31/50\n",
      "27/27 [==============================] - 0s - loss: 0.4393 - acc: 0.7407\n",
      "Epoch 32/50\n",
      "27/27 [==============================] - 0s - loss: 0.4165 - acc: 0.8519\n",
      "Epoch 33/50\n",
      "27/27 [==============================] - 0s - loss: 0.2312 - acc: 0.8889\n",
      "Epoch 34/50\n",
      "27/27 [==============================] - 0s - loss: 0.1718 - acc: 1.0000\n",
      "Epoch 35/50\n",
      "27/27 [==============================] - 0s - loss: 0.1408 - acc: 1.0000\n",
      "Epoch 36/50\n",
      "27/27 [==============================] - 0s - loss: 0.1237 - acc: 1.0000\n",
      "Epoch 37/50\n",
      "27/27 [==============================] - 0s - loss: 0.1093 - acc: 1.0000\n",
      "Epoch 38/50\n",
      "27/27 [==============================] - 0s - loss: 0.0974 - acc: 1.0000\n",
      "Epoch 39/50\n",
      "27/27 [==============================] - 0s - loss: 0.0873 - acc: 1.0000\n",
      "Epoch 40/50\n",
      "27/27 [==============================] - 0s - loss: 0.0785 - acc: 1.0000\n",
      "Epoch 41/50\n",
      "27/27 [==============================] - 0s - loss: 0.0707 - acc: 1.0000\n",
      "Epoch 42/50\n",
      "27/27 [==============================] - 0s - loss: 0.0638 - acc: 1.0000\n",
      "Epoch 43/50\n",
      "27/27 [==============================] - 0s - loss: 0.0575 - acc: 1.0000\n",
      "Epoch 44/50\n",
      "27/27 [==============================] - 0s - loss: 0.0519 - acc: 1.0000\n",
      "Epoch 45/50\n",
      "27/27 [==============================] - 0s - loss: 0.0470 - acc: 1.0000\n",
      "Epoch 46/50\n",
      "27/27 [==============================] - 0s - loss: 0.0426 - acc: 1.0000\n",
      "Epoch 47/50\n",
      "27/27 [==============================] - 0s - loss: 0.0387 - acc: 1.0000\n",
      "Epoch 48/50\n",
      "27/27 [==============================] - 0s - loss: 0.0352 - acc: 1.0000\n",
      "Epoch 49/50\n",
      "27/27 [==============================] - 0s - loss: 0.0322 - acc: 1.0000\n",
      "Epoch 50/50\n",
      "27/27 [==============================] - 0s - loss: 0.0294 - acc: 1.0000\n"
     ]
    },
    {
     "data": {
      "text/plain": [
       "<keras.callbacks.History at 0x120024780>"
      ]
     },
     "execution_count": 15,
     "metadata": {},
     "output_type": "execute_result"
    }
   ],
   "source": [
    "rms = RMSprop(lr=0.1)\n",
    "model.compile(optimizer=rms,loss='categorical_crossentropy',metrics=['accuracy'])\n",
    "model.fit(X,Y,epochs=50)"
   ]
  },
  {
   "cell_type": "markdown",
   "metadata": {},
   "source": [
    "Test \n",
    "===="
   ]
  },
  {
   "cell_type": "markdown",
   "metadata": {},
   "source": [
    "On commence par coder numériquement les données..."
   ]
  },
  {
   "cell_type": "code",
   "execution_count": 17,
   "metadata": {
    "collapsed": false
   },
   "outputs": [
    {
     "name": "stdout",
     "output_type": "stream",
     "text": [
      "[[1, 1, 2], [0, 2, 2]]\n"
     ]
    }
   ],
   "source": [
    "test_set = [['x','x','y'],['z','y','y']]\n",
    "testX = list([[x_codes[elt] for elt in line] for line in test_set])\n",
    "print(testX)"
   ]
  },
  {
   "cell_type": "markdown",
   "metadata": {},
   "source": [
    "On réalise l'ensemble des prédictions en une fois..."
   ]
  },
  {
   "cell_type": "code",
   "execution_count": 19,
   "metadata": {
    "collapsed": false
   },
   "outputs": [
    {
     "data": {
      "text/plain": [
       "array([[ 0.24731326,  0.25151277,  0.24659121,  0.25458282],\n",
       "       [ 0.25015521,  0.24984626,  0.25109464,  0.24890389]], dtype=float32)"
      ]
     },
     "execution_count": 19,
     "metadata": {},
     "output_type": "execute_result"
    }
   ],
   "source": [
    "model.predict(testX)"
   ]
  },
  {
   "cell_type": "markdown",
   "metadata": {},
   "source": [
    "On applique une règle de décision (le plus haut score l'emporte)..."
   ]
  },
  {
   "cell_type": "code",
   "execution_count": 24,
   "metadata": {
    "collapsed": false
   },
   "outputs": [
    {
     "name": "stdout",
     "output_type": "stream",
     "text": [
      "['C', 'A']\n"
     ]
    }
   ],
   "source": [
    "probs = model.predict(testX)\n",
    "Yvals = [rev_y_codes[np.argmax(line)] for line in probs]\n",
    "print(Yvals)"
   ]
  },
  {
   "cell_type": "code",
   "execution_count": null,
   "metadata": {
    "collapsed": true
   },
   "outputs": [],
   "source": []
  }
 ],
 "metadata": {
  "anaconda-cloud": {},
  "kernelspec": {
   "display_name": "Python [py35]",
   "language": "python",
   "name": "Python [py35]"
  },
  "language_info": {
   "codemirror_mode": {
    "name": "ipython",
    "version": 3
   },
   "file_extension": ".py",
   "mimetype": "text/x-python",
   "name": "python",
   "nbconvert_exporter": "python",
   "pygments_lexer": "ipython3",
   "version": "3.5.2"
  }
 },
 "nbformat": 4,
 "nbformat_minor": 0
}
