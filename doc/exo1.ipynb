{
 "cells": [
  {
   "cell_type": "code",
   "execution_count": 1,
   "metadata": {
    "collapsed": true
   },
   "outputs": [],
   "source": [
    "import numpy as np\n",
    "from math import exp,log\n",
    "import sys"
   ]
  },
  {
   "cell_type": "markdown",
   "metadata": {},
   "source": [
    "Descente de gradient (généralités)\n",
    "=================================="
   ]
  },
  {
   "cell_type": "markdown",
   "metadata": {},
   "source": [
    "Descente de gradient pour $f(x) = (x-3)^2$"
   ]
  },
  {
   "cell_type": "code",
   "execution_count": 2,
   "metadata": {
    "collapsed": true
   },
   "outputs": [],
   "source": [
    "def optimise_univariate(step_size=0.4,max_epochs=30): \n",
    "    \"\"\"\n",
    "    Optimizes f(x) = (x-3)^2 (strictly convex) \n",
    "    \"\"\"\n",
    "    x=0\n",
    "    for e in range(max_epochs):\n",
    "        x -= step_size * 2*(x-3) #f’(x) = 2(x-3) \n",
    "        obj = (x-3)**2\n",
    "        print(x,obj)\n",
    "    return x"
   ]
  },
  {
   "cell_type": "markdown",
   "metadata": {},
   "source": [
    "Exécution de la fonction de descente de gradient"
   ]
  },
  {
   "cell_type": "code",
   "execution_count": 3,
   "metadata": {
    "collapsed": false,
    "scrolled": true
   },
   "outputs": [
    {
     "name": "stdout",
     "output_type": "stream",
     "text": [
      "2.4000000000000004 0.3599999999999996\n",
      "2.88 0.014400000000000026\n",
      "2.976 0.000576000000000001\n",
      "2.9952 2.303999999999919e-05\n",
      "2.99904 9.216000000001381e-07\n",
      "2.999808 3.6864000000073737e-08\n",
      "2.9999616 1.4745600000165917e-09\n",
      "2.99999232 5.898239999929943e-11\n",
      "2.999998464 2.3592960002448256e-12\n",
      "2.9999996928 9.437184006436271e-14\n",
      "2.99999993856 3.774873624402381e-15\n",
      "2.999999987712 1.5099494279330796e-16\n",
      "2.9999999975424 6.039797275174871e-18\n",
      "2.99999999950848 2.4159206563000214e-19\n",
      "2.999999999901696 9.663682625200085e-21\n",
      "2.9999999999803393 3.865438125551152e-22\n",
      "2.999999999996068 1.5460355555759207e-23\n",
      "2.9999999999992135 6.185539216080739e-25\n",
      "2.999999999999843 2.471422329966908e-26\n",
      "2.9999999999999685 9.941619558047801e-28\n",
      "2.999999999999994 3.865418435582958e-29\n",
      "2.9999999999999987 1.7749370367472766e-30\n",
      "2.9999999999999996 1.9721522630525295e-31\n",
      "3.0 0.0\n",
      "3.0 0.0\n",
      "3.0 0.0\n",
      "3.0 0.0\n",
      "3.0 0.0\n",
      "3.0 0.0\n",
      "3.0 0.0\n"
     ]
    },
    {
     "data": {
      "text/plain": [
       "3.0"
      ]
     },
     "execution_count": 3,
     "metadata": {},
     "output_type": "execute_result"
    }
   ],
   "source": [
    "optimise_univariate(step_size=0.4,max_epochs=30)"
   ]
  },
  {
   "cell_type": "markdown",
   "metadata": {},
   "source": [
    "Descente de gradient pour  $f(x_1,x_2)= x_1^2 + x_2^2+2x_1+8x_2$\n",
    " "
   ]
  },
  {
   "cell_type": "code",
   "execution_count": 4,
   "metadata": {
    "collapsed": false
   },
   "outputs": [],
   "source": [
    "def optimise_bivariate(step_size=0.4,max_epochs=30): \n",
    "    \"\"\"\n",
    "    Optimizes f(x1,x2) = x1^2+x2^2+2x1+8x2 (strictly convex) \n",
    "    \"\"\"\n",
    "    (x1,x2) = (0,0)\n",
    "    for e in range(max_epochs):\n",
    "        obj = x1**2+x2**2+2*x1+8*x2\n",
    "        print((x1,x2),obj)\n",
    "        x1,x2 = (x1-step_size*(2*x1+2),x2-step_size*(2*x2+8))\n",
    "    obj = x1**2+x2**2+2*x1+8*x2\n",
    "    print((x1,x2),obj)\n",
    "    return (x1,x2)"
   ]
  },
  {
   "cell_type": "code",
   "execution_count": 5,
   "metadata": {
    "collapsed": false,
    "scrolled": true
   },
   "outputs": [
    {
     "name": "stdout",
     "output_type": "stream",
     "text": [
      "(0, 0) 0\n",
      "(-0.8, -3.2) -16.32\n",
      "(-0.96, -3.84) -16.9728\n",
      "(-0.992, -3.968) -16.998912000000004\n",
      "(-0.9984, -3.9936) -16.99995648\n",
      "(-0.99968, -3.99872) -16.999998259199998\n",
      "(-0.999936, -3.999744) -16.999999930368\n",
      "(-0.9999872, -3.9999488) -16.99999999721472\n",
      "(-0.99999744, -3.99998976) -16.999999999888587\n",
      "(-0.999999488, -3.999997952) -16.999999999995545\n",
      "(-0.9999998976, -3.9999995904) -16.999999999999822\n",
      "(-0.99999997952, -3.99999991808) -16.999999999999993\n",
      "(-0.999999995904, -3.999999983616) -17.0\n",
      "(-0.9999999991808, -3.9999999967232) -17.0\n",
      "(-0.99999999983616, -3.99999999934464) -17.0\n",
      "(-0.999999999967232, -3.999999999868928) -17.0\n",
      "(-0.9999999999934464, -3.9999999999737854) -17.0\n",
      "(-0.9999999999986893, -3.999999999994757) -17.0\n",
      "(-0.9999999999997379, -3.9999999999989515) -17.0\n",
      "(-0.9999999999999476, -3.9999999999997904) -17.0\n",
      "(-0.9999999999999896, -3.9999999999999583) -17.0\n",
      "(-0.9999999999999979, -3.9999999999999916) -17.0\n",
      "(-0.9999999999999996, -3.9999999999999982) -17.0\n",
      "(-0.9999999999999999, -3.9999999999999996) -17.0\n",
      "(-1.0, -4.0) -17.0\n",
      "(-1.0, -4.0) -17.0\n",
      "(-1.0, -4.0) -17.0\n",
      "(-1.0, -4.0) -17.0\n",
      "(-1.0, -4.0) -17.0\n",
      "(-1.0, -4.0) -17.0\n",
      "(-1.0, -4.0) -17.0\n"
     ]
    },
    {
     "data": {
      "text/plain": [
       "(-1.0, -4.0)"
      ]
     },
     "execution_count": 5,
     "metadata": {},
     "output_type": "execute_result"
    }
   ],
   "source": [
    "optimise_bivariate()"
   ]
  },
  {
   "cell_type": "markdown",
   "metadata": {},
   "source": [
    "Régression logistique\n",
    "====================="
   ]
  },
  {
   "cell_type": "code",
   "execution_count": 6,
   "metadata": {
    "collapsed": false
   },
   "outputs": [],
   "source": [
    "raw_dataset = open(\"../data/logistic.dat\")"
   ]
  },
  {
   "cell_type": "markdown",
   "metadata": {},
   "source": [
    "Lecture des données\n",
    "----------------------"
   ]
  },
  {
   "cell_type": "code",
   "execution_count": 7,
   "metadata": {
    "collapsed": false,
    "scrolled": true
   },
   "outputs": [
    {
     "name": "stdout",
     "output_type": "stream",
     "text": [
      "[['3', '7', '1'], ['4', '9', '1'], ['2', '10', '1'], ['1', '11', '1'], ['0', '9', '0'], ['-1', '7', '0'], ['-2', '2', '0'], ['-3', '3', '0']]\n"
     ]
    }
   ],
   "source": [
    "dataset = list([ line.split() for line in raw_dataset])\n",
    "print(dataset)"
   ]
  },
  {
   "cell_type": "code",
   "execution_count": 8,
   "metadata": {
    "collapsed": false,
    "scrolled": false
   },
   "outputs": [
    {
     "name": "stdout",
     "output_type": "stream",
     "text": [
      "[[  3.   7.]\n",
      " [  4.   9.]\n",
      " [  2.  10.]\n",
      " [  1.  11.]\n",
      " [  0.   9.]\n",
      " [ -1.   7.]\n",
      " [ -2.   2.]\n",
      " [ -3.   3.]]\n"
     ]
    }
   ],
   "source": [
    "X = np.array( [(float(line[0]),float(line[1])) for line in dataset] )\n",
    "print(X)"
   ]
  },
  {
   "cell_type": "code",
   "execution_count": 9,
   "metadata": {
    "collapsed": false
   },
   "outputs": [
    {
     "name": "stdout",
     "output_type": "stream",
     "text": [
      "[ 1.  1.  1.  1.  0.  0.  0.  0.]\n"
     ]
    }
   ],
   "source": [
    "Y = np.array ([float(line[2]) for line in dataset])\n",
    "print(Y)"
   ]
  },
  {
   "cell_type": "markdown",
   "metadata": {},
   "source": [
    "Version non vectorisée\n",
    "----------------------"
   ]
  },
  {
   "cell_type": "code",
   "execution_count": 10,
   "metadata": {
    "collapsed": true
   },
   "outputs": [],
   "source": [
    "def predict_success(x1,x2,w0,w1):\n",
    "    return exp(x1*w0+x2*w1)/(1+(exp(x1*w0+x2*w1)))"
   ]
  },
  {
   "cell_type": "code",
   "execution_count": 11,
   "metadata": {
    "collapsed": false
   },
   "outputs": [],
   "source": [
    "def estimate_params(X,Y,alpha=0.5, max_epochs=30):\n",
    "    w0,w1 = 0.0,0.0\n",
    "    N = len(Y)\n",
    "    print(w0,w1)\n",
    "    for e in range(max_epochs):     \n",
    "        partial0 = sum( X[i][0]*(Y[i] - predict_success(X[i][0],X[i][1],w0,w1)) for i in range(N))\n",
    "        partial1 = sum( X[i][1]*(Y[i] - predict_success(X[i][0],X[i][1],w0,w1)) for i in range(N))\n",
    "        w0 += alpha*partial0\n",
    "        w1 += alpha*partial1  \n",
    "        print(w0,w1)\n",
    "    return (w0,w1)\n",
    "        \n",
    "    "
   ]
  },
  {
   "cell_type": "code",
   "execution_count": 12,
   "metadata": {
    "collapsed": false
   },
   "outputs": [
    {
     "name": "stdout",
     "output_type": "stream",
     "text": [
      "0.0 0.0\n",
      "4.0 4.0\n",
      "5.74999999998 -5.24999999987\n",
      "10.7499999951 13.2499999878\n",
      "13.7424779761 2.75752200682\n",
      "14.2405613025 -5.22906127645\n",
      "15.7439577616 5.2788554383\n",
      "16.2439577621 -2.72114456036\n",
      "16.7490416499 2.80427147273\n",
      "17.2224876799 -5.00985073718\n",
      "18.7224876136 5.49014868385\n",
      "19.2224876123 -2.5098513065\n",
      "19.7223752039 2.98890260975\n",
      "20.1066325313 -4.20089868208\n",
      "21.4642598804 5.58723806365\n",
      "21.9642598696 -2.41276186043\n",
      "22.4591649449 3.03119395134\n",
      "22.5713126935 -2.25384028906\n",
      "23.0223693901 2.70778336545\n",
      "23.0307821831 -1.85110618536\n",
      "23.0632076649 -1.49442614727\n",
      "23.0638704938 -1.48714151673\n",
      "23.0644819393 -1.48042254175\n",
      "23.0650495261 -1.4741864456\n",
      "23.0655792229 -1.46836756336\n",
      "23.0660758471 -1.46291289831\n",
      "23.0665433446 -1.45777903976\n",
      "23.0669849893 -1.45292996886\n",
      "23.0674035285 -1.44833546096\n",
      "23.0678012906 -1.44396989933\n",
      "23.0681802666 -1.4398113789\n",
      "23.0685421725 -1.43584101866\n",
      "23.0688884981 -1.43204242684\n",
      "23.0692205454 -1.42840127972\n",
      "23.0695394585 -1.42490498624\n",
      "23.069846249 -1.42154241817\n",
      "23.0701418151 -1.41830369101\n",
      "23.0704269583 -1.41517998456\n",
      "23.0707023971 -1.41216339483\n",
      "23.0709687775 -1.40924681086\n",
      "23.0712266831 -1.40642381175\n",
      "23.0714766425 -1.40368857976\n",
      "23.0717191362 -1.40103582688\n",
      "23.0719546024 -1.39846073211\n",
      "23.0721834415 -1.39595888794\n",
      "23.0724060206 -1.39352625413\n",
      "23.072622677 -1.39115911796\n",
      "23.0728337215 -1.38885405962\n",
      "23.0730394408 -1.38660792207\n",
      "23.0732401003 -1.38441778474\n",
      "23.073435946 -1.38228094042\n",
      "23.0736272063 -1.38019487488\n",
      "23.0738140937 -1.37815724894\n",
      "23.0739968061 -1.37616588253\n",
      "23.0741755285 -1.37421874051\n",
      "23.0743504337 -1.37231392013\n",
      "23.0745216835 -1.37044963969\n",
      "23.0746894297 -1.36862422851\n",
      "23.0748538148 -1.36683611784\n",
      "23.0750149727 -1.36508383273\n",
      "23.0751730295 -1.36336598466\n",
      "23.075328104 -1.36168126494\n",
      "23.0754803085 -1.36002843862\n",
      "23.0756297488 -1.35840633911\n",
      "23.0757765251 -1.35681386317\n",
      "23.0759207323 -1.35524996641\n",
      "23.0760624601 -1.35371365917\n",
      "23.0762017939 -1.35220400274\n",
      "23.0763388146 -1.35072010591\n",
      "23.0764735989 -1.34926112183\n",
      "23.0766062201 -1.34782624511\n",
      "23.0767367477 -1.34641470912\n",
      "23.076865248 -1.34502578356\n",
      "23.0769917842 -1.34365877218\n",
      "23.0771164167 -1.34231301073\n",
      "23.0772392029 -1.34098786495\n",
      "23.0773601978 -1.33968272886\n",
      "23.077479454 -1.33839702307\n",
      "23.0775970219 -1.33713019323\n",
      "23.0777129496 -1.33588170863\n",
      "23.0778272832 -1.33465106086\n",
      "23.077940067 -1.33343776255\n",
      "23.0780513433 -1.33224134628\n",
      "23.0781611528 -1.33106136344\n",
      "23.0782695346 -1.32989738329\n",
      "23.0783765263 -1.32874899198\n",
      "23.0784821639 -1.32761579167\n",
      "23.0785864821 -1.32649739975\n",
      "23.0786895144 -1.32539344806\n",
      "23.0787912928 -1.32430358214\n",
      "23.0788918484 -1.32322746059\n",
      "23.0789912109 -1.32216475442\n",
      "23.0790894091 -1.32111514647\n",
      "23.0791864708 -1.32007833081\n",
      "23.0792824226 -1.31905401226\n",
      "23.0793772905 -1.31804190586\n",
      "23.0794710994 -1.31704173642\n",
      "23.0795638733 -1.31605323807\n",
      "23.0796556356 -1.31507615383\n",
      "23.0797464088 -1.31411023526\n",
      "23.0798362147 -1.31315524202\n",
      "23.0799250742 -1.31221094158\n",
      "23.0800130079 -1.31127710885\n",
      "23.0801000354 -1.31035352587\n",
      "23.0801861759 -1.30943998153\n",
      "23.0802714479 -1.30853627126\n",
      "23.0803558694 -1.30764219677\n",
      "23.0804394578 -1.30675756582\n",
      "23.08052223 -1.30588219192\n",
      "23.0806042023 -1.30501589417\n",
      "23.0806853906 -1.30415849697\n",
      "23.0807658104 -1.30330982989\n",
      "23.0808454767 -1.30246972738\n",
      "23.080924404 -1.30163802866\n",
      "23.0810026064 -1.30081457751\n",
      "23.0810800977 -1.29999922209\n",
      "23.0811568913 -1.29919181478\n",
      "23.0812330002 -1.29839221204\n",
      "23.0813084369 -1.29760027424\n",
      "23.0813832137 -1.29681586555\n",
      "23.0814573427 -1.29603885376\n",
      "23.0815308354 -1.29526911018\n",
      "23.0816037032 -1.29450650952\n",
      "23.0816759571 -1.29375092974\n",
      "23.081747608 -1.29300225198\n",
      "23.0818186661 -1.29226036041\n",
      "23.0818891418 -1.29152514217\n",
      "23.0819590449 -1.29079648721\n",
      "23.0820283853 -1.29007428828\n",
      "23.0820971723 -1.28935844073\n",
      "23.0821654151 -1.28864884254\n",
      "23.0822331228 -1.28794539414\n",
      "23.0823003041 -1.28724799839\n",
      "23.0823669676 -1.28655656045\n",
      "23.0824331217 -1.28587098777\n",
      "23.0824987745 -1.28519118996\n",
      "23.0825639339 -1.28451707877\n",
      "23.0826286078 -1.28384856797\n",
      "23.0826928038 -1.28318557334\n",
      "23.0827565293 -1.28252801258\n",
      "23.0828197915 -1.28187580526\n",
      "23.0828825976 -1.28122887275\n",
      "23.0829449545 -1.28058713818\n",
      "23.0830068689 -1.2799505264\n",
      "23.0830683475 -1.2793189639\n",
      "23.0831293968 -1.27869237878\n",
      "23.0831900231 -1.27807070069\n",
      "23.0832502326 -1.27745386081\n",
      "23.0833100314 -1.27684179178\n",
      "23.0833694255 -1.27623442767\n",
      "23.0834284206 -1.27563170395\n"
     ]
    },
    {
     "data": {
      "text/plain": [
       "(23.083428420618656, -1.2756317039516814)"
      ]
     },
     "execution_count": 12,
     "metadata": {},
     "output_type": "execute_result"
    }
   ],
   "source": [
    "estimate_params(X,Y,max_epochs=150)"
   ]
  },
  {
   "cell_type": "markdown",
   "metadata": {},
   "source": [
    "Version vectorisée (numpy)\n",
    "--------------------------"
   ]
  },
  {
   "cell_type": "code",
   "execution_count": 13,
   "metadata": {
    "collapsed": true
   },
   "outputs": [],
   "source": [
    "def predict_success_vec(X,W):\n",
    "    return exp(X.dot(W))/(1+(exp(X.dot(W))))"
   ]
  },
  {
   "cell_type": "code",
   "execution_count": 14,
   "metadata": {
    "collapsed": true
   },
   "outputs": [],
   "source": [
    "def estimate_params_vec(X,Y,alpha=0.5, max_epochs=30):\n",
    "    W = np.zeros(2)\n",
    "    N = len(Y)\n",
    "    print(W)\n",
    "    for e in range(max_epochs):   \n",
    "        grad = sum(X[i]*(Y[i] - predict_success_vec(X[i],W)) for i in range(N))\n",
    "        W += alpha*grad\n",
    "        print(W)\n",
    "    return W\n",
    "    "
   ]
  },
  {
   "cell_type": "code",
   "execution_count": 15,
   "metadata": {
    "collapsed": false,
    "scrolled": false
   },
   "outputs": [
    {
     "name": "stdout",
     "output_type": "stream",
     "text": [
      "[ 0.  0.]\n",
      "[ 4.  4.]\n",
      "[ 5.75 -5.25]\n",
      "[ 10.75        13.24999999]\n",
      "[ 13.74247798   2.75752201]\n",
      "[ 14.2405613   -5.22906128]\n",
      "[ 15.74395776   5.27885544]\n",
      "[ 16.24395776  -2.72114456]\n",
      "[ 16.74904165   2.80427147]\n",
      "[ 17.22248768  -5.00985074]\n",
      "[ 18.72248761   5.49014868]\n",
      "[ 19.22248761  -2.50985131]\n",
      "[ 19.7223752    2.98890261]\n",
      "[ 20.10663253  -4.20089868]\n",
      "[ 21.46425988   5.58723806]\n",
      "[ 21.96425987  -2.41276186]\n",
      "[ 22.45916494   3.03119395]\n",
      "[ 22.57131269  -2.25384029]\n",
      "[ 23.02236939   2.70778337]\n",
      "[ 23.03078218  -1.85110619]\n",
      "[ 23.06320766  -1.49442615]\n",
      "[ 23.06387049  -1.48714152]\n",
      "[ 23.06448194  -1.48042254]\n",
      "[ 23.06504953  -1.47418645]\n",
      "[ 23.06557922  -1.46836756]\n",
      "[ 23.06607585  -1.4629129 ]\n",
      "[ 23.06654334  -1.45777904]\n",
      "[ 23.06698499  -1.45292997]\n",
      "[ 23.06740353  -1.44833546]\n",
      "[ 23.06780129  -1.4439699 ]\n",
      "[ 23.06818027  -1.43981138]\n",
      "[ 23.06854217  -1.43584102]\n",
      "[ 23.0688885   -1.43204243]\n",
      "[ 23.06922055  -1.42840128]\n",
      "[ 23.06953946  -1.42490499]\n",
      "[ 23.06984625  -1.42154242]\n",
      "[ 23.07014182  -1.41830369]\n",
      "[ 23.07042696  -1.41517998]\n",
      "[ 23.0707024   -1.41216339]\n",
      "[ 23.07096878  -1.40924681]\n",
      "[ 23.07122668  -1.40642381]\n",
      "[ 23.07147664  -1.40368858]\n",
      "[ 23.07171914  -1.40103583]\n",
      "[ 23.0719546   -1.39846073]\n",
      "[ 23.07218344  -1.39595889]\n",
      "[ 23.07240602  -1.39352625]\n",
      "[ 23.07262268  -1.39115912]\n",
      "[ 23.07283372  -1.38885406]\n",
      "[ 23.07303944  -1.38660792]\n",
      "[ 23.0732401   -1.38441778]\n",
      "[ 23.07343595  -1.38228094]\n",
      "[ 23.07362721  -1.38019487]\n",
      "[ 23.07381409  -1.37815725]\n",
      "[ 23.07399681  -1.37616588]\n",
      "[ 23.07417553  -1.37421874]\n",
      "[ 23.07435043  -1.37231392]\n",
      "[ 23.07452168  -1.37044964]\n",
      "[ 23.07468943  -1.36862423]\n",
      "[ 23.07485381  -1.36683612]\n",
      "[ 23.07501497  -1.36508383]\n",
      "[ 23.07517303  -1.36336598]\n",
      "[ 23.0753281   -1.36168126]\n",
      "[ 23.07548031  -1.36002844]\n",
      "[ 23.07562975  -1.35840634]\n",
      "[ 23.07577653  -1.35681386]\n",
      "[ 23.07592073  -1.35524997]\n",
      "[ 23.07606246  -1.35371366]\n",
      "[ 23.07620179  -1.352204  ]\n",
      "[ 23.07633881  -1.35072011]\n",
      "[ 23.0764736   -1.34926112]\n",
      "[ 23.07660622  -1.34782625]\n",
      "[ 23.07673675  -1.34641471]\n",
      "[ 23.07686525  -1.34502578]\n",
      "[ 23.07699178  -1.34365877]\n",
      "[ 23.07711642  -1.34231301]\n",
      "[ 23.0772392   -1.34098786]\n",
      "[ 23.0773602   -1.33968273]\n",
      "[ 23.07747945  -1.33839702]\n",
      "[ 23.07759702  -1.33713019]\n",
      "[ 23.07771295  -1.33588171]\n",
      "[ 23.07782728  -1.33465106]\n",
      "[ 23.07794007  -1.33343776]\n",
      "[ 23.07805134  -1.33224135]\n",
      "[ 23.07816115  -1.33106136]\n",
      "[ 23.07826953  -1.32989738]\n",
      "[ 23.07837653  -1.32874899]\n",
      "[ 23.07848216  -1.32761579]\n",
      "[ 23.07858648  -1.3264974 ]\n",
      "[ 23.07868951  -1.32539345]\n",
      "[ 23.07879129  -1.32430358]\n",
      "[ 23.07889185  -1.32322746]\n",
      "[ 23.07899121  -1.32216475]\n",
      "[ 23.07908941  -1.32111515]\n",
      "[ 23.07918647  -1.32007833]\n",
      "[ 23.07928242  -1.31905401]\n",
      "[ 23.07937729  -1.31804191]\n",
      "[ 23.0794711   -1.31704174]\n",
      "[ 23.07956387  -1.31605324]\n",
      "[ 23.07965564  -1.31507615]\n",
      "[ 23.07974641  -1.31411024]\n",
      "[ 23.07983621  -1.31315524]\n",
      "[ 23.07992507  -1.31221094]\n",
      "[ 23.08001301  -1.31127711]\n",
      "[ 23.08010004  -1.31035353]\n",
      "[ 23.08018618  -1.30943998]\n",
      "[ 23.08027145  -1.30853627]\n",
      "[ 23.08035587  -1.3076422 ]\n",
      "[ 23.08043946  -1.30675757]\n",
      "[ 23.08052223  -1.30588219]\n",
      "[ 23.0806042   -1.30501589]\n",
      "[ 23.08068539  -1.3041585 ]\n",
      "[ 23.08076581  -1.30330983]\n",
      "[ 23.08084548  -1.30246973]\n",
      "[ 23.0809244   -1.30163803]\n",
      "[ 23.08100261  -1.30081458]\n",
      "[ 23.0810801   -1.29999922]\n",
      "[ 23.08115689  -1.29919181]\n",
      "[ 23.081233    -1.29839221]\n",
      "[ 23.08130844  -1.29760027]\n",
      "[ 23.08138321  -1.29681587]\n",
      "[ 23.08145734  -1.29603885]\n",
      "[ 23.08153084  -1.29526911]\n",
      "[ 23.0816037   -1.29450651]\n",
      "[ 23.08167596  -1.29375093]\n",
      "[ 23.08174761  -1.29300225]\n",
      "[ 23.08181867  -1.29226036]\n",
      "[ 23.08188914  -1.29152514]\n",
      "[ 23.08195904  -1.29079649]\n",
      "[ 23.08202839  -1.29007429]\n",
      "[ 23.08209717  -1.28935844]\n",
      "[ 23.08216542  -1.28864884]\n",
      "[ 23.08223312  -1.28794539]\n",
      "[ 23.0823003  -1.287248 ]\n",
      "[ 23.08236697  -1.28655656]\n",
      "[ 23.08243312  -1.28587099]\n",
      "[ 23.08249877  -1.28519119]\n",
      "[ 23.08256393  -1.28451708]\n",
      "[ 23.08262861  -1.28384857]\n",
      "[ 23.0826928   -1.28318557]\n",
      "[ 23.08275653  -1.28252801]\n",
      "[ 23.08281979  -1.28187581]\n",
      "[ 23.0828826   -1.28122887]\n",
      "[ 23.08294495  -1.28058714]\n",
      "[ 23.08300687  -1.27995053]\n",
      "[ 23.08306835  -1.27931896]\n",
      "[ 23.0831294   -1.27869238]\n",
      "[ 23.08319002  -1.2780707 ]\n",
      "[ 23.08325023  -1.27745386]\n",
      "[ 23.08331003  -1.27684179]\n",
      "[ 23.08336943  -1.27623443]\n",
      "[ 23.08342842  -1.2756317 ]\n"
     ]
    },
    {
     "data": {
      "text/plain": [
       "array([ 23.08342842,  -1.2756317 ])"
      ]
     },
     "execution_count": 15,
     "metadata": {},
     "output_type": "execute_result"
    }
   ],
   "source": [
    "estimate_params_vec(X,Y,max_epochs=150)"
   ]
  },
  {
   "cell_type": "markdown",
   "metadata": {
    "collapsed": true
   },
   "source": [
    "Trace de la fonction objective à chaque itération\n",
    "-------------------------------------------------"
   ]
  },
  {
   "cell_type": "code",
   "execution_count": 16,
   "metadata": {
    "collapsed": true
   },
   "outputs": [],
   "source": [
    "def loglikelihood(X,Y,W):\n",
    "    N = len(Y)\n",
    "    LL = 0\n",
    "    for i in range(N):\n",
    "        ysucc = predict_success_vec(X[i],W) \n",
    "        if Y[i] == 1:\n",
    "          LL += log(ysucc+sys.float_info.epsilon)\n",
    "        else:\n",
    "          LL += log(1-ysucc+sys.float_info.epsilon)\n",
    "    return LL"
   ]
  },
  {
   "cell_type": "code",
   "execution_count": 17,
   "metadata": {
    "collapsed": true
   },
   "outputs": [],
   "source": [
    "def estimate_params_obj(X,Y,alpha=0.5, max_epochs=30):\n",
    "    W = np.zeros(2)\n",
    "    N = len(Y)\n",
    "    obj = [loglikelihood(X,Y,W)]\n",
    "    print(W)\n",
    "    for e in range(max_epochs):   \n",
    "        grad = sum(X[i]*(Y[i] - predict_success_vec(X[i],W)) for i in range(N))\n",
    "        W += alpha*grad\n",
    "        print(W)\n",
    "        obj.append(loglikelihood(X,Y,W))\n",
    "    return obj"
   ]
  },
  {
   "cell_type": "code",
   "execution_count": 18,
   "metadata": {
    "collapsed": false
   },
   "outputs": [
    {
     "name": "stdout",
     "output_type": "stream",
     "text": [
      "[ 0.  0.]\n",
      "[ 4.  4.]\n",
      "[ 5.75 -5.25]\n",
      "[ 10.75        13.24999999]\n",
      "[ 13.74247798   2.75752201]\n",
      "[ 14.2405613   -5.22906128]\n",
      "[ 15.74395776   5.27885544]\n",
      "[ 16.24395776  -2.72114456]\n",
      "[ 16.74904165   2.80427147]\n",
      "[ 17.22248768  -5.00985074]\n",
      "[ 18.72248761   5.49014868]\n",
      "[ 19.22248761  -2.50985131]\n",
      "[ 19.7223752    2.98890261]\n",
      "[ 20.10663253  -4.20089868]\n",
      "[ 21.46425988   5.58723806]\n",
      "[ 21.96425987  -2.41276186]\n",
      "[ 22.45916494   3.03119395]\n",
      "[ 22.57131269  -2.25384029]\n",
      "[ 23.02236939   2.70778337]\n",
      "[ 23.03078218  -1.85110619]\n",
      "[ 23.06320766  -1.49442615]\n",
      "[ 23.06387049  -1.48714152]\n",
      "[ 23.06448194  -1.48042254]\n",
      "[ 23.06504953  -1.47418645]\n",
      "[ 23.06557922  -1.46836756]\n",
      "[ 23.06607585  -1.4629129 ]\n",
      "[ 23.06654334  -1.45777904]\n",
      "[ 23.06698499  -1.45292997]\n",
      "[ 23.06740353  -1.44833546]\n",
      "[ 23.06780129  -1.4439699 ]\n",
      "[ 23.06818027  -1.43981138]\n",
      "[ 23.06854217  -1.43584102]\n",
      "[ 23.0688885   -1.43204243]\n",
      "[ 23.06922055  -1.42840128]\n",
      "[ 23.06953946  -1.42490499]\n",
      "[ 23.06984625  -1.42154242]\n",
      "[ 23.07014182  -1.41830369]\n",
      "[ 23.07042696  -1.41517998]\n",
      "[ 23.0707024   -1.41216339]\n",
      "[ 23.07096878  -1.40924681]\n",
      "[ 23.07122668  -1.40642381]\n",
      "[ 23.07147664  -1.40368858]\n",
      "[ 23.07171914  -1.40103583]\n",
      "[ 23.0719546   -1.39846073]\n",
      "[ 23.07218344  -1.39595889]\n",
      "[ 23.07240602  -1.39352625]\n",
      "[ 23.07262268  -1.39115912]\n",
      "[ 23.07283372  -1.38885406]\n",
      "[ 23.07303944  -1.38660792]\n",
      "[ 23.0732401   -1.38441778]\n",
      "[ 23.07343595  -1.38228094]\n",
      "[ 23.07362721  -1.38019487]\n",
      "[ 23.07381409  -1.37815725]\n",
      "[ 23.07399681  -1.37616588]\n",
      "[ 23.07417553  -1.37421874]\n",
      "[ 23.07435043  -1.37231392]\n",
      "[ 23.07452168  -1.37044964]\n",
      "[ 23.07468943  -1.36862423]\n",
      "[ 23.07485381  -1.36683612]\n",
      "[ 23.07501497  -1.36508383]\n",
      "[ 23.07517303  -1.36336598]\n",
      "[ 23.0753281   -1.36168126]\n",
      "[ 23.07548031  -1.36002844]\n",
      "[ 23.07562975  -1.35840634]\n",
      "[ 23.07577653  -1.35681386]\n",
      "[ 23.07592073  -1.35524997]\n",
      "[ 23.07606246  -1.35371366]\n",
      "[ 23.07620179  -1.352204  ]\n",
      "[ 23.07633881  -1.35072011]\n",
      "[ 23.0764736   -1.34926112]\n",
      "[ 23.07660622  -1.34782625]\n",
      "[ 23.07673675  -1.34641471]\n",
      "[ 23.07686525  -1.34502578]\n",
      "[ 23.07699178  -1.34365877]\n",
      "[ 23.07711642  -1.34231301]\n",
      "[ 23.0772392   -1.34098786]\n",
      "[ 23.0773602   -1.33968273]\n",
      "[ 23.07747945  -1.33839702]\n",
      "[ 23.07759702  -1.33713019]\n",
      "[ 23.07771295  -1.33588171]\n",
      "[ 23.07782728  -1.33465106]\n",
      "[ 23.07794007  -1.33343776]\n",
      "[ 23.07805134  -1.33224135]\n",
      "[ 23.07816115  -1.33106136]\n",
      "[ 23.07826953  -1.32989738]\n",
      "[ 23.07837653  -1.32874899]\n",
      "[ 23.07848216  -1.32761579]\n",
      "[ 23.07858648  -1.3264974 ]\n",
      "[ 23.07868951  -1.32539345]\n",
      "[ 23.07879129  -1.32430358]\n",
      "[ 23.07889185  -1.32322746]\n",
      "[ 23.07899121  -1.32216475]\n",
      "[ 23.07908941  -1.32111515]\n",
      "[ 23.07918647  -1.32007833]\n",
      "[ 23.07928242  -1.31905401]\n",
      "[ 23.07937729  -1.31804191]\n",
      "[ 23.0794711   -1.31704174]\n",
      "[ 23.07956387  -1.31605324]\n",
      "[ 23.07965564  -1.31507615]\n",
      "[ 23.07974641  -1.31411024]\n",
      "[ 23.07983621  -1.31315524]\n",
      "[ 23.07992507  -1.31221094]\n",
      "[ 23.08001301  -1.31127711]\n",
      "[ 23.08010004  -1.31035353]\n",
      "[ 23.08018618  -1.30943998]\n",
      "[ 23.08027145  -1.30853627]\n",
      "[ 23.08035587  -1.3076422 ]\n",
      "[ 23.08043946  -1.30675757]\n",
      "[ 23.08052223  -1.30588219]\n",
      "[ 23.0806042   -1.30501589]\n",
      "[ 23.08068539  -1.3041585 ]\n",
      "[ 23.08076581  -1.30330983]\n",
      "[ 23.08084548  -1.30246973]\n",
      "[ 23.0809244   -1.30163803]\n",
      "[ 23.08100261  -1.30081458]\n",
      "[ 23.0810801   -1.29999922]\n",
      "[ 23.08115689  -1.29919181]\n",
      "[ 23.081233    -1.29839221]\n",
      "[ 23.08130844  -1.29760027]\n",
      "[ 23.08138321  -1.29681587]\n",
      "[ 23.08145734  -1.29603885]\n",
      "[ 23.08153084  -1.29526911]\n",
      "[ 23.0816037   -1.29450651]\n",
      "[ 23.08167596  -1.29375093]\n",
      "[ 23.08174761  -1.29300225]\n",
      "[ 23.08181867  -1.29226036]\n",
      "[ 23.08188914  -1.29152514]\n",
      "[ 23.08195904  -1.29079649]\n",
      "[ 23.08202839  -1.29007429]\n",
      "[ 23.08209717  -1.28935844]\n",
      "[ 23.08216542  -1.28864884]\n",
      "[ 23.08223312  -1.28794539]\n",
      "[ 23.0823003  -1.287248 ]\n",
      "[ 23.08236697  -1.28655656]\n",
      "[ 23.08243312  -1.28587099]\n",
      "[ 23.08249877  -1.28519119]\n",
      "[ 23.08256393  -1.28451708]\n",
      "[ 23.08262861  -1.28384857]\n",
      "[ 23.0826928   -1.28318557]\n",
      "[ 23.08275653  -1.28252801]\n",
      "[ 23.08281979  -1.28187581]\n",
      "[ 23.0828826   -1.28122887]\n",
      "[ 23.08294495  -1.28058714]\n",
      "[ 23.08300687  -1.27995053]\n",
      "[ 23.08306835  -1.27931896]\n",
      "[ 23.0831294   -1.27869238]\n",
      "[ 23.08319002  -1.2780707 ]\n",
      "[ 23.08325023  -1.27745386]\n",
      "[ 23.08331003  -1.27684179]\n",
      "[ 23.08336943  -1.27623443]\n",
      "[ 23.08342842  -1.2756317 ]\n"
     ]
    }
   ],
   "source": [
    "obj_history = estimate_params_obj(X,Y,max_epochs=150)"
   ]
  },
  {
   "cell_type": "markdown",
   "metadata": {},
   "source": [
    "Plots the objective..."
   ]
  },
  {
   "cell_type": "code",
   "execution_count": 19,
   "metadata": {
    "collapsed": true
   },
   "outputs": [],
   "source": [
    "import pandas as pd\n",
    "import matplotlib.pyplot as plt\n",
    "%matplotlib inline"
   ]
  },
  {
   "cell_type": "code",
   "execution_count": 20,
   "metadata": {
    "collapsed": false
   },
   "outputs": [
    {
     "data": {
      "text/plain": [
       "(-150, 10)"
      ]
     },
     "execution_count": 20,
     "metadata": {},
     "output_type": "execute_result"
    },
    {
     "data": {
      "image/png": "[encoded data removed]",
      "text/plain": [
       "<matplotlib.figure.Figure at 0x116f2f2b0>"
      ]
     },
     "metadata": {},
     "output_type": "display_data"
    }
   ],
   "source": [
    "df = pd.DataFrame({'LogLikelihood':obj_history})\n",
    "ax = df.plot()\n",
    "ax.set_ylim(-150,10)"
   ]
  },
  {
   "cell_type": "markdown",
   "metadata": {
    "collapsed": true
   },
   "source": [
    "Régression logistique multinomiale (données discrètes)\n",
    "======================================================"
   ]
  },
  {
   "cell_type": "markdown",
   "metadata": {},
   "source": [
    "Lecture des données\n",
    "-------------------"
   ]
  },
  {
   "cell_type": "code",
   "execution_count": 21,
   "metadata": {
    "collapsed": true
   },
   "outputs": [],
   "source": [
    "raw_dataset = open(\"../data/multiclass2.dat\")"
   ]
  },
  {
   "cell_type": "code",
   "execution_count": 22,
   "metadata": {
    "collapsed": false,
    "scrolled": false
   },
   "outputs": [
    {
     "name": "stdout",
     "output_type": "stream",
     "text": [
      "[['x', 'x', 'x', 'A'], ['x', 'x', 'y', 'A'], ['x', 'x', 'z', 'A'], ['x', 'y', 'x', 'D'], ['x', 'y', 'y', 'B'], ['x', 'y', 'z', 'D'], ['x', 'z', 'x', 'D'], ['x', 'z', 'y', 'D'], ['x', 'z', 'z', 'C'], ['y', 'x', 'x', 'A'], ['y', 'x', 'y', 'D'], ['y', 'x', 'z', 'D'], ['y', 'y', 'x', 'B'], ['y', 'y', 'y', 'B'], ['y', 'y', 'z', 'B'], ['y', 'z', 'x', 'D'], ['y', 'z', 'y', 'D'], ['y', 'z', 'z', 'C'], ['z', 'x', 'x', 'A'], ['z', 'x', 'y', 'D'], ['z', 'x', 'z', 'D'], ['z', 'y', 'x', 'D'], ['z', 'y', 'y', 'B'], ['z', 'y', 'z', 'D'], ['z', 'z', 'x', 'C'], ['z', 'z', 'y', 'C'], ['z', 'z', 'z', 'C']]\n"
     ]
    }
   ],
   "source": [
    "dataset = list([ line.split() for line in raw_dataset])\n",
    "print(dataset)"
   ]
  },
  {
   "cell_type": "code",
   "execution_count": 23,
   "metadata": {
    "collapsed": false,
    "scrolled": false
   },
   "outputs": [
    {
     "name": "stdout",
     "output_type": "stream",
     "text": [
      "[['x', 'x', 'x', ('x', 'x'), ('x', 'x')], ['x', 'x', 'y', ('x', 'x'), ('x', 'y')], ['x', 'x', 'z', ('x', 'x'), ('x', 'z')], ['x', 'y', 'x', ('x', 'y'), ('y', 'x')], ['x', 'y', 'y', ('x', 'y'), ('y', 'y')], ['x', 'y', 'z', ('x', 'y'), ('y', 'z')], ['x', 'z', 'x', ('x', 'z'), ('z', 'x')], ['x', 'z', 'y', ('x', 'z'), ('z', 'y')], ['x', 'z', 'z', ('x', 'z'), ('z', 'z')], ['y', 'x', 'x', ('y', 'x'), ('x', 'x')], ['y', 'x', 'y', ('y', 'x'), ('x', 'y')], ['y', 'x', 'z', ('y', 'x'), ('x', 'z')], ['y', 'y', 'x', ('y', 'y'), ('y', 'x')], ['y', 'y', 'y', ('y', 'y'), ('y', 'y')], ['y', 'y', 'z', ('y', 'y'), ('y', 'z')], ['y', 'z', 'x', ('y', 'z'), ('z', 'x')], ['y', 'z', 'y', ('y', 'z'), ('z', 'y')], ['y', 'z', 'z', ('y', 'z'), ('z', 'z')], ['z', 'x', 'x', ('z', 'x'), ('x', 'x')], ['z', 'x', 'y', ('z', 'x'), ('x', 'y')], ['z', 'x', 'z', ('z', 'x'), ('x', 'z')], ['z', 'y', 'x', ('z', 'y'), ('y', 'x')], ['z', 'y', 'y', ('z', 'y'), ('y', 'y')], ['z', 'y', 'z', ('z', 'y'), ('y', 'z')], ['z', 'z', 'x', ('z', 'z'), ('z', 'x')], ['z', 'z', 'y', ('z', 'z'), ('z', 'y')], ['z', 'z', 'z', ('z', 'z'), ('z', 'z')]]\n",
      "['A', 'A', 'A', 'D', 'B', 'D', 'D', 'D', 'C', 'A', 'D', 'D', 'B', 'B', 'B', 'D', 'D', 'C', 'A', 'D', 'D', 'D', 'B', 'D', 'C', 'C', 'C']\n"
     ]
    }
   ],
   "source": [
    "X = [] \n",
    "Y = []\n",
    "for line in dataset:\n",
    "    features = line[:-1]                       #unigrams\n",
    "    features.extend(zip(features,features[1:]))#bigrams\n",
    "    X.append(features)                         #X = list of hashable symbols\n",
    "    Y.append(line[-1])                         #Y = string (or hashable symbol)\n",
    "print(X)\n",
    "print(Y)"
   ]
  },
  {
   "cell_type": "markdown",
   "metadata": {
    "collapsed": true
   },
   "source": [
    "Version vectorisée (vecteur creux)\n",
    "----------------------------------"
   ]
  },
  {
   "cell_type": "code",
   "execution_count": 24,
   "metadata": {
    "collapsed": false
   },
   "outputs": [],
   "source": [
    "sys.path.append('../')\n",
    "from SparseWeightVector import *\n"
   ]
  },
  {
   "cell_type": "code",
   "execution_count": 25,
   "metadata": {
    "collapsed": false
   },
   "outputs": [
    {
     "name": "stdout",
     "output_type": "stream",
     "text": [
      "['A', 'D', 'C', 'B']\n"
     ]
    }
   ],
   "source": [
    "all_classes = list(set(Y))\n",
    "print(all_classes)"
   ]
  },
  {
   "cell_type": "code",
   "execution_count": 26,
   "metadata": {
    "collapsed": true
   },
   "outputs": [],
   "source": [
    "def predict_probs(X,W):\n",
    "    probs = np.array([exp(W.dot(X,y)) for y in all_classes])\n",
    "    probs /= probs.sum()\n",
    "    return probs\n",
    "    "
   ]
  },
  {
   "cell_type": "code",
   "execution_count": 27,
   "metadata": {
    "collapsed": true
   },
   "outputs": [],
   "source": [
    "def predict_class_prob(X,W,y):\n",
    "    \n",
    "    probs = np.array([exp(W.dot(X,y)) for y in all_classes])\n",
    "    probs /= probs.sum()\n",
    "    return probs[all_classes.index(y)]"
   ]
  },
  {
   "cell_type": "code",
   "execution_count": 28,
   "metadata": {
    "collapsed": true
   },
   "outputs": [],
   "source": [
    "def loglikelihood(X,Y,W):\n",
    "    LL = 0\n",
    "    for x,y in zip(X,Y):\n",
    "        LL += log(predict_class_prob(x,W,y))\n",
    "    return LL\n",
    "    "
   ]
  },
  {
   "cell_type": "code",
   "execution_count": 29,
   "metadata": {
    "collapsed": false
   },
   "outputs": [],
   "source": [
    "def estimate_params_vec(X,Y,alpha=0.05, max_epochs=50):\n",
    "    \n",
    "    weights = SparseWeightVector()\n",
    "    print('objective:',loglikelihood(X,Y,weights))\n",
    "    N = len(Y)\n",
    "    \n",
    "    for e in range(max_epochs):\n",
    "        \n",
    "        delta_ref  = SparseWeightVector()\n",
    "        delta_pred = SparseWeightVector()\n",
    "        \n",
    "        #compute gradient\n",
    "        for (x,y) in zip(X,Y):\n",
    "            delta_ref += SparseWeightVector.code_phi(x,y) #NB: useless recomputations here \n",
    "            \n",
    "            preds = predict_probs(x,weights)\n",
    "            for idx,c in enumerate(all_classes):\n",
    "                delta_pred += SparseWeightVector.code_phi(x,c) * preds[idx]\n",
    "                \n",
    "        #update (gradient ascent)\n",
    "        weights += alpha*(delta_ref-delta_pred)\n",
    "        print('objective:',loglikelihood(X,Y,weights))\n",
    "        \n",
    "    return weights\n",
    "                    "
   ]
  },
  {
   "cell_type": "code",
   "execution_count": 30,
   "metadata": {
    "collapsed": false,
    "scrolled": false
   },
   "outputs": [
    {
     "name": "stdout",
     "output_type": "stream",
     "text": [
      "objective: -37.429947750237034\n",
      "objective: -23.329686787594287\n",
      "objective: -17.64606872668413\n",
      "objective: -14.477273806995655\n",
      "objective: -12.405986692151894\n",
      "objective: -10.90091377029238\n",
      "objective: -9.739541623713766\n",
      "objective: -8.808966854947828\n",
      "objective: -8.043618218930757\n",
      "objective: -7.401701013621235\n",
      "objective: -6.85490049697143\n",
      "objective: -6.383184029602687\n",
      "objective: -5.97189762429865\n",
      "objective: -5.61003321253355\n",
      "objective: -5.289139490133168\n",
      "objective: -5.002608590196004\n",
      "objective: -4.745192877110615\n",
      "objective: -4.512668301987798\n",
      "objective: -4.301594222582156\n",
      "objective: -4.109138509887049\n",
      "objective: -3.932947910869815\n",
      "objective: -3.771050441548253\n",
      "objective: -3.621780867506698\n",
      "objective: -3.4837230974134195\n",
      "objective: -3.3556651470297503\n",
      "objective: -3.2365635688091614\n",
      "objective: -3.1255150938958387\n",
      "objective: -3.0217338292978346\n",
      "objective: -2.924532776339769\n",
      "objective: -2.8333087413431293\n",
      "objective: -2.7475299317647512\n",
      "objective: -2.6667256949795966\n",
      "objective: -2.590477979117265\n",
      "objective: -2.5184141873751202\n",
      "objective: -2.4502011671372688\n",
      "objective: -2.385540128794361\n",
      "objective: -2.3241623305325128\n",
      "objective: -2.2658253975557487\n",
      "objective: -2.2103101694379808\n",
      "objective: -2.1574179892055505\n",
      "objective: -2.106968363553019\n",
      "objective: -2.0587969362136374\n",
      "objective: -2.0127537266396507\n",
      "objective: -1.968701594328994\n",
      "objective: -1.9265148957741336\n",
      "objective: -1.8860783064219906\n",
      "objective: -1.8472857844683603\n",
      "objective: -1.8100396569585673\n",
      "objective: -1.7742498116804881\n",
      "objective: -1.7398329808365716\n",
      "objective: -1.7067121045637663\n"
     ]
    }
   ],
   "source": [
    "params = estimate_params_vec(X,Y)"
   ]
  },
  {
   "cell_type": "code",
   "execution_count": 31,
   "metadata": {
    "collapsed": false
   },
   "outputs": [
    {
     "name": "stdout",
     "output_type": "stream",
     "text": [
      "phi(z,A) = 1 : w = -0.937797\n",
      "phi(y&z,B) = 1 : w = -0.315830\n",
      "phi(z&y,A) = 1 : w = -0.328008\n",
      "phi(x,D) = 1 : w = 0.510765\n",
      "phi(z,D) = 1 : w = 0.510765\n",
      "phi(x&z,D) = 1 : w = 0.959668\n",
      "phi(z,B) = 1 : w = -0.937797\n",
      "phi(y,D) = 1 : w = 0.510765\n",
      "phi(x,C) = 1 : w = -0.937797\n",
      "phi(x&z,B) = 1 : w = -0.328008\n",
      "phi(z&x,C) = 1 : w = -0.315830\n",
      "phi(z,C) = 1 : w = 1.364828\n",
      "phi(x,A) = 1 : w = 1.364828\n",
      "phi(x&z,C) = 1 : w = -0.315830\n",
      "phi(y&y,B) = 1 : w = 2.136882\n",
      "phi(z&z,C) = 1 : w = 2.136882\n",
      "phi(x&x,C) = 1 : w = -0.279029\n",
      "phi(x&y,A) = 1 : w = -0.315830\n",
      "phi(z&x,B) = 1 : w = -0.328008\n",
      "phi(z&z,D) = 1 : w = -1.578825\n",
      "phi(x&z,A) = 1 : w = -0.315830\n",
      "phi(y&z,A) = 1 : w = -0.328008\n",
      "phi(z&x,D) = 1 : w = 0.959668\n",
      "phi(y&x,D) = 1 : w = 0.959668\n",
      "phi(y&y,A) = 1 : w = -0.279029\n",
      "phi(x&x,B) = 1 : w = -0.279029\n",
      "phi(z&y,C) = 1 : w = -0.315830\n",
      "phi(x,B) = 1 : w = -0.937797\n",
      "phi(x&y,B) = 1 : w = -0.315830\n",
      "phi(z&y,D) = 1 : w = 0.959668\n",
      "phi(y&y,D) = 1 : w = -1.578825\n",
      "phi(z&x,A) = 1 : w = -0.315830\n",
      "phi(y,B) = 1 : w = 1.364828\n",
      "phi(x&y,D) = 1 : w = 0.959668\n",
      "phi(x&x,D) = 1 : w = -1.578825\n",
      "phi(z&z,A) = 1 : w = -0.279029\n",
      "phi(y,C) = 1 : w = -0.937797\n",
      "phi(y&x,A) = 1 : w = -0.315830\n",
      "phi(y&z,D) = 1 : w = 0.959668\n",
      "phi(z&y,B) = 1 : w = -0.315830\n",
      "phi(x&y,C) = 1 : w = -0.328008\n",
      "phi(x&x,A) = 1 : w = 2.136882\n",
      "phi(y&y,C) = 1 : w = -0.279029\n",
      "phi(z&z,B) = 1 : w = -0.279029\n",
      "phi(y&x,C) = 1 : w = -0.328008\n",
      "phi(y&z,C) = 1 : w = -0.315830\n",
      "phi(y,A) = 1 : w = -0.937797\n",
      "phi(y&x,B) = 1 : w = -0.315830\n",
      "\n"
     ]
    }
   ],
   "source": [
    "print(params)"
   ]
  },
  {
   "cell_type": "code",
   "execution_count": null,
   "metadata": {
    "collapsed": true
   },
   "outputs": [],
   "source": []
  }
 ],
 "metadata": {
  "anaconda-cloud": {},
  "kernelspec": {
   "display_name": "Python [py35]",
   "language": "python",
   "name": "Python [py35]"
  },
  "language_info": {
   "codemirror_mode": {
    "name": "ipython",
    "version": 3
   },
   "file_extension": ".py",
   "mimetype": "text/x-python",
   "name": "python",
   "nbconvert_exporter": "python",
   "pygments_lexer": "ipython3",
   "version": "3.5.2"
  }
 },
 "nbformat": 4,
 "nbformat_minor": 0
}
