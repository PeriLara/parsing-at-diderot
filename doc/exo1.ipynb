{
 "cells": [
  {
   "cell_type": "code",
   "execution_count": 95,
   "metadata": {
    "collapsed": true
   },
   "outputs": [],
   "source": [
    "import numpy as np\n",
    "from math import exp"
   ]
  },
  {
   "cell_type": "markdown",
   "metadata": {},
   "source": [
    "Descente de gradient (généralités)\n",
    "=================================="
   ]
  },
  {
   "cell_type": "markdown",
   "metadata": {},
   "source": [
    "Descente de gradient pour $f(x) = (x-3)^2$"
   ]
  },
  {
   "cell_type": "code",
   "execution_count": 19,
   "metadata": {
    "collapsed": true
   },
   "outputs": [],
   "source": [
    "def optimise_univariate(step_size=0.4,max_epochs=30): \n",
    "    \"\"\"\n",
    "    Optimizes f(x) = (x-3)^2 (strictly convex) \n",
    "    \"\"\"\n",
    "    x=0\n",
    "    for e in range(max_epochs):\n",
    "        x -= step_size * 2*(x-3) #f’(x) = 2(x-3) \n",
    "        obj = (x-3)**2\n",
    "        print(x,obj)\n",
    "    return x"
   ]
  },
  {
   "cell_type": "markdown",
   "metadata": {},
   "source": [
    "Exécution de la fonction de descente de gradient"
   ]
  },
  {
   "cell_type": "code",
   "execution_count": 126,
   "metadata": {
    "collapsed": false,
    "scrolled": true
   },
   "outputs": [
    {
     "name": "stdout",
     "output_type": "stream",
     "text": [
      "2.4000000000000004 0.3599999999999996\n",
      "2.88 0.014400000000000026\n",
      "2.976 0.000576000000000001\n",
      "2.9952 2.303999999999919e-05\n",
      "2.99904 9.216000000001381e-07\n",
      "2.999808 3.6864000000073737e-08\n",
      "2.9999616 1.4745600000165917e-09\n",
      "2.99999232 5.898239999929943e-11\n",
      "2.999998464 2.3592960002448256e-12\n",
      "2.9999996928 9.437184006436271e-14\n",
      "2.99999993856 3.774873624402381e-15\n",
      "2.999999987712 1.5099494279330796e-16\n",
      "2.9999999975424 6.039797275174871e-18\n",
      "2.99999999950848 2.4159206563000214e-19\n",
      "2.999999999901696 9.663682625200085e-21\n",
      "2.9999999999803393 3.865438125551152e-22\n",
      "2.999999999996068 1.5460355555759207e-23\n",
      "2.9999999999992135 6.185539216080739e-25\n",
      "2.999999999999843 2.471422329966908e-26\n",
      "2.9999999999999685 9.941619558047801e-28\n",
      "2.999999999999994 3.865418435582958e-29\n",
      "2.9999999999999987 1.7749370367472766e-30\n",
      "2.9999999999999996 1.9721522630525295e-31\n",
      "3.0 0.0\n",
      "3.0 0.0\n",
      "3.0 0.0\n",
      "3.0 0.0\n",
      "3.0 0.0\n",
      "3.0 0.0\n",
      "3.0 0.0\n"
     ]
    },
    {
     "data": {
      "text/plain": [
       "3.0"
      ]
     },
     "execution_count": 126,
     "metadata": {},
     "output_type": "execute_result"
    }
   ],
   "source": [
    "optimise_univariate(step_size=0.4,max_epochs=30)"
   ]
  },
  {
   "cell_type": "markdown",
   "metadata": {},
   "source": [
    "Descente de gradient pour  $f(x_1,x_2)= x_1^2 + x_2^2+2x_1+8x_2$\n",
    " "
   ]
  },
  {
   "cell_type": "code",
   "execution_count": 16,
   "metadata": {
    "collapsed": false
   },
   "outputs": [],
   "source": [
    "def optimise_bivariate(step_size=0.4,max_epochs=30): \n",
    "    \"\"\"\n",
    "    Optimizes f(x1,x2) = x1^2+x2^2+2x1+8x2 (strictly convex) \n",
    "    \"\"\"\n",
    "    (x1,x2) = (0,0)\n",
    "    for e in range(max_epochs):\n",
    "        obj = x1**2+x2**2+2*x1+8*x2\n",
    "        print((x1,x2),obj)\n",
    "        x1,x2 = (x1-step_size*(2*x1+2),x2-step_size*(2*x2+8))\n",
    "    obj = x1**2+x2**2+2*x1+8*x2\n",
    "    print((x1,x2),obj)\n",
    "    return (x1,x2)"
   ]
  },
  {
   "cell_type": "code",
   "execution_count": 17,
   "metadata": {
    "collapsed": false,
    "scrolled": true
   },
   "outputs": [
    {
     "name": "stdout",
     "output_type": "stream",
     "text": [
      "(0, 0) 0\n",
      "(-0.8, -3.2) -16.32\n",
      "(-0.96, -3.84) -16.9728\n",
      "(-0.992, -3.968) -16.998912000000004\n",
      "(-0.9984, -3.9936) -16.99995648\n",
      "(-0.99968, -3.99872) -16.999998259199998\n",
      "(-0.999936, -3.999744) -16.999999930368\n",
      "(-0.9999872, -3.9999488) -16.99999999721472\n",
      "(-0.99999744, -3.99998976) -16.999999999888587\n",
      "(-0.999999488, -3.999997952) -16.999999999995545\n",
      "(-0.9999998976, -3.9999995904) -16.999999999999822\n",
      "(-0.99999997952, -3.99999991808) -16.999999999999993\n",
      "(-0.999999995904, -3.999999983616) -17.0\n",
      "(-0.9999999991808, -3.9999999967232) -17.0\n",
      "(-0.99999999983616, -3.99999999934464) -17.0\n",
      "(-0.999999999967232, -3.999999999868928) -17.0\n",
      "(-0.9999999999934464, -3.9999999999737854) -17.0\n",
      "(-0.9999999999986893, -3.999999999994757) -17.0\n",
      "(-0.9999999999997379, -3.9999999999989515) -17.0\n",
      "(-0.9999999999999476, -3.9999999999997904) -17.0\n",
      "(-0.9999999999999896, -3.9999999999999583) -17.0\n",
      "(-0.9999999999999979, -3.9999999999999916) -17.0\n",
      "(-0.9999999999999996, -3.9999999999999982) -17.0\n",
      "(-0.9999999999999999, -3.9999999999999996) -17.0\n",
      "(-1.0, -4.0) -17.0\n",
      "(-1.0, -4.0) -17.0\n",
      "(-1.0, -4.0) -17.0\n",
      "(-1.0, -4.0) -17.0\n",
      "(-1.0, -4.0) -17.0\n",
      "(-1.0, -4.0) -17.0\n",
      "(-1.0, -4.0) -17.0\n"
     ]
    },
    {
     "data": {
      "text/plain": [
       "(-1.0, -4.0)"
      ]
     },
     "execution_count": 17,
     "metadata": {},
     "output_type": "execute_result"
    }
   ],
   "source": [
    "optimise_bivariate()"
   ]
  },
  {
   "cell_type": "markdown",
   "metadata": {},
   "source": [
    "Régression logistique\n",
    "====================="
   ]
  },
  {
   "cell_type": "code",
   "execution_count": 86,
   "metadata": {
    "collapsed": false
   },
   "outputs": [],
   "source": [
    "raw_dataset = open(\"../data/logistic.dat\")"
   ]
  },
  {
   "cell_type": "markdown",
   "metadata": {},
   "source": [
    "Lecture des données\n",
    "----------------------"
   ]
  },
  {
   "cell_type": "code",
   "execution_count": 87,
   "metadata": {
    "collapsed": false,
    "scrolled": true
   },
   "outputs": [
    {
     "name": "stdout",
     "output_type": "stream",
     "text": [
      "[['3', '7', '1'], ['4', '9', '1'], ['2', '10', '1'], ['1', '11', '1'], ['0', '9', '0'], ['-1', '7', '0'], ['-2', '2', '0'], ['-3', '3', '0']]\n"
     ]
    }
   ],
   "source": [
    "dataset = list([ line.split() for line in raw_dataset])\n",
    "print(dataset)"
   ]
  },
  {
   "cell_type": "code",
   "execution_count": 89,
   "metadata": {
    "collapsed": false,
    "scrolled": false
   },
   "outputs": [
    {
     "name": "stdout",
     "output_type": "stream",
     "text": [
      "[[  3.   7.]\n",
      " [  4.   9.]\n",
      " [  2.  10.]\n",
      " [  1.  11.]\n",
      " [  0.   9.]\n",
      " [ -1.   7.]\n",
      " [ -2.   2.]\n",
      " [ -3.   3.]]\n"
     ]
    }
   ],
   "source": [
    "X = np.array( [(float(line[0]),float(line[1])) for line in dataset] )\n",
    "print(X)"
   ]
  },
  {
   "cell_type": "code",
   "execution_count": 90,
   "metadata": {
    "collapsed": false
   },
   "outputs": [
    {
     "name": "stdout",
     "output_type": "stream",
     "text": [
      "[ 1.  1.  1.  1.  0.  0.  0.  0.]\n"
     ]
    }
   ],
   "source": [
    "Y = np.array ([float(line[2]) for line in dataset])\n",
    "print(Y)"
   ]
  },
  {
   "cell_type": "markdown",
   "metadata": {},
   "source": [
    "Version non vectorisée\n",
    "----------------------"
   ]
  },
  {
   "cell_type": "code",
   "execution_count": 112,
   "metadata": {
    "collapsed": true
   },
   "outputs": [],
   "source": [
    "def predict_success(x1,x2,w0,w1):\n",
    "    return exp(x1*w0+x2*w1)/(1+(exp(x1*w0+x2*w1)))"
   ]
  },
  {
   "cell_type": "code",
   "execution_count": 122,
   "metadata": {
    "collapsed": false
   },
   "outputs": [],
   "source": [
    "def estimate_params(X,Y,alpha=0.01, max_epochs=30):\n",
    "    w0,w1 = 0.0,0.0\n",
    "    N = len(Y)\n",
    "    print(w0,w1)\n",
    "    for e in range(max_epochs):     \n",
    "        partial0 = sum( X[i][0]*(Y[i] - predict_success(X[i][0],X[i][1],w0,w1)) for i in range(N))\n",
    "        partial1 = sum( X[i][1]*(Y[i] - predict_success(X[i][0],X[i][1],w0,w1)) for i in range(N))\n",
    "        w0 += alpha*partial0\n",
    "        w1 += alpha*partial1  \n",
    "        print(w0,w1)\n",
    "    return (w0,w1)\n",
    "        \n",
    "    "
   ]
  },
  {
   "cell_type": "code",
   "execution_count": 123,
   "metadata": {
    "collapsed": false
   },
   "outputs": [
    {
     "name": "stdout",
     "output_type": "stream",
     "text": [
      "0.0 0.0\n",
      "0.08 0.08\n",
      "0.139230589917 0.0545727239274\n",
      "0.196110423657 0.0483490399102\n",
      "0.248493037704 0.0415606489085\n",
      "0.297054744002 0.0356533611151\n",
      "0.342208009103 0.0303664620924\n",
      "0.384338567279 0.0256142347423\n",
      "0.423784832392 0.0213165903801\n",
      "0.460842279046 0.0174079984888\n",
      "0.495767703637 0.0138342698044\n",
      "0.528783938694 0.0105504412081\n",
      "0.560084409846 0.00751902924137\n",
      "0.589837288017 0.00470862317493\n",
      "0.618189146419 0.00209275786492\n",
      "0.645268117117 -0.000350987671395\n",
      "0.67118658316 -0.00264171179492\n",
      "0.696043458928 -0.00479576927217\n",
      "0.719926114945 -0.00682723762315\n",
      "0.742912000562 -0.00874829432838\n",
      "0.765070012348 -0.0105695233622\n",
      "0.786461649573 -0.0123001655116\n",
      "0.807141991938 -0.0139483238047\n",
      "0.827160528993 -0.0155211329378\n",
      "0.846561865782 -0.0170248996935\n",
      "0.865386325011 -0.0184652198788\n",
      "0.883670462584 -0.0198470761618\n",
      "0.901447510382 -0.0211749203024\n",
      "0.918747757817 -0.0224527425678\n",
      "0.935598881684 -0.023684130579\n",
      "0.952026232236 -0.0248723194025\n"
     ]
    },
    {
     "data": {
      "text/plain": [
       "(0.95202623223638039, -0.024872319402523088)"
      ]
     },
     "execution_count": 123,
     "metadata": {},
     "output_type": "execute_result"
    }
   ],
   "source": [
    "estimate_params(X,Y)"
   ]
  },
  {
   "cell_type": "markdown",
   "metadata": {},
   "source": [
    "Version vectorisée (numpy)\n",
    "--------------------------"
   ]
  },
  {
   "cell_type": "code",
   "execution_count": 107,
   "metadata": {
    "collapsed": true
   },
   "outputs": [],
   "source": [
    "def predict_success_vec(X,W):\n",
    "    return exp(X.dot(W))/(1+(exp(X.dot(W))))"
   ]
  },
  {
   "cell_type": "code",
   "execution_count": 124,
   "metadata": {
    "collapsed": true
   },
   "outputs": [],
   "source": [
    "def estimate_params_vec(X,Y,alpha=0.01, max_epochs=30):\n",
    "    W = np.zeros(2)\n",
    "    N = len(Y)\n",
    "    print(W)\n",
    "    for e in range(max_epochs):   \n",
    "        grad = sum(X[i]*(Y[i] - predict_success_vec(X[i],W)) for i in range(N))\n",
    "        W += alpha*grad\n",
    "        print(W)\n",
    "    return W\n",
    "    "
   ]
  },
  {
   "cell_type": "code",
   "execution_count": 125,
   "metadata": {
    "collapsed": false,
    "scrolled": false
   },
   "outputs": [
    {
     "name": "stdout",
     "output_type": "stream",
     "text": [
      "[ 0.  0.]\n",
      "[ 0.08  0.08]\n",
      "[ 0.13923059  0.05457272]\n",
      "[ 0.19611042  0.04834904]\n",
      "[ 0.24849304  0.04156065]\n",
      "[ 0.29705474  0.03565336]\n",
      "[ 0.34220801  0.03036646]\n",
      "[ 0.38433857  0.02561423]\n",
      "[ 0.42378483  0.02131659]\n",
      "[ 0.46084228  0.017408  ]\n",
      "[ 0.4957677   0.01383427]\n",
      "[ 0.52878394  0.01055044]\n",
      "[ 0.56008441  0.00751903]\n",
      "[ 0.58983729  0.00470862]\n",
      "[ 0.61818915  0.00209276]\n",
      "[  6.45268117e-01  -3.50987671e-04]\n",
      "[ 0.67118658 -0.00264171]\n",
      "[ 0.69604346 -0.00479577]\n",
      "[ 0.71992611 -0.00682724]\n",
      "[ 0.742912   -0.00874829]\n",
      "[ 0.76507001 -0.01056952]\n",
      "[ 0.78646165 -0.01230017]\n",
      "[ 0.80714199 -0.01394832]\n",
      "[ 0.82716053 -0.01552113]\n",
      "[ 0.84656187 -0.0170249 ]\n",
      "[ 0.86538633 -0.01846522]\n",
      "[ 0.88367046 -0.01984708]\n",
      "[ 0.90144751 -0.02117492]\n",
      "[ 0.91874776 -0.02245274]\n",
      "[ 0.93559888 -0.02368413]\n",
      "[ 0.95202623 -0.02487232]\n"
     ]
    },
    {
     "data": {
      "text/plain": [
       "array([ 0.95202623, -0.02487232])"
      ]
     },
     "execution_count": 125,
     "metadata": {},
     "output_type": "execute_result"
    }
   ],
   "source": [
    "estimate_params_vec(X,Y)"
   ]
  },
  {
   "cell_type": "code",
   "execution_count": null,
   "metadata": {
    "collapsed": true
   },
   "outputs": [],
   "source": []
  }
 ],
 "metadata": {
  "anaconda-cloud": {},
  "kernelspec": {
   "display_name": "Python [py35]",
   "language": "python",
   "name": "Python [py35]"
  },
  "language_info": {
   "codemirror_mode": {
    "name": "ipython",
    "version": 3
   },
   "file_extension": ".py",
   "mimetype": "text/x-python",
   "name": "python",
   "nbconvert_exporter": "python",
   "pygments_lexer": "ipython3",
   "version": "3.5.2"
  }
 },
 "nbformat": 4,
 "nbformat_minor": 0
}
