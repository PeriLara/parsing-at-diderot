{
 "cells": [
  {
   "cell_type": "code",
   "execution_count": 1,
   "metadata": {
    "collapsed": false
   },
   "outputs": [
    {
     "name": "stderr",
     "output_type": "stream",
     "text": [
      "Using TensorFlow backend.\n"
     ]
    }
   ],
   "source": [
    "import numpy as np\n",
    "from keras.models import Sequential\n",
    "from keras.layers import Dense, Activation,Embedding,LSTM, TimeDistributed,Bidirectional\n",
    "from keras.optimizers import RMSprop,SGD\n",
    "from keras.preprocessing.sequence import pad_sequences\n"
   ]
  },
  {
   "cell_type": "markdown",
   "metadata": {},
   "source": [
    "Lecture des données\n",
    "==================="
   ]
  },
  {
   "cell_type": "code",
   "execution_count": 2,
   "metadata": {
    "collapsed": true
   },
   "outputs": [],
   "source": [
    "def read_conll_sentence(istream):\n",
    "    x_seq = []\n",
    "    y_seq = []\n",
    "    line = istream.readline()\n",
    "    while line and not line.isspace():\n",
    "        fields = line.split()\n",
    "        x_seq.append(fields[1])\n",
    "        y_seq.append(fields[3])\n",
    "        line = istream.readline()\n",
    "    return (x_seq,y_seq)"
   ]
  },
  {
   "cell_type": "code",
   "execution_count": 3,
   "metadata": {
    "collapsed": true
   },
   "outputs": [],
   "source": [
    "def read_conll_corpus(filename):\n",
    "    X = []\n",
    "    Y = []\n",
    "    istream = open(filename)\n",
    "    (x,y) = read_conll_sentence(istream)\n",
    "    while x and y:\n",
    "        X.append(x)\n",
    "        Y.append(y)\n",
    "        (x,y) = read_conll_sentence(istream)\n",
    "    istream.close()\n",
    "    return X,Y"
   ]
  },
  {
   "cell_type": "code",
   "execution_count": 4,
   "metadata": {
    "collapsed": true
   },
   "outputs": [],
   "source": [
    "X,Y = read_conll_corpus('../projets-2017-2018/sequoia-corpus.np_conll')"
   ]
  },
  {
   "cell_type": "code",
   "execution_count": 5,
   "metadata": {
    "collapsed": false
   },
   "outputs": [
    {
     "name": "stdout",
     "output_type": "stream",
     "text": [
      "[['Gutenberg'], ['Cette', 'exposition', 'nous', 'apprend', 'que', 'dès', 'le', 'XIIe', 'siècle', ',', 'à', 'Dammarie-sur-Saulx', ',', 'entre', 'autres', 'sites', ',', 'une', 'industrie', 'métallurgique', 'existait', '.']] [['N'], ['D', 'N', 'CL', 'V', 'C', 'P', 'D', 'A', 'N', 'PONCT', 'P', 'N', 'PONCT', 'P', 'A', 'N', 'PONCT', 'D', 'N', 'A', 'V', 'PONCT']]\n"
     ]
    }
   ],
   "source": [
    "print(X[:2],Y[:2])"
   ]
  },
  {
   "cell_type": "markdown",
   "metadata": {},
   "source": [
    "Codage des données\n",
    "=================="
   ]
  },
  {
   "cell_type": "code",
   "execution_count": 6,
   "metadata": {
    "collapsed": false
   },
   "outputs": [
    {
     "name": "stdout",
     "output_type": "stream",
     "text": [
      "{'PRO': 0, 'P+D': 1, 'D': 6, 'ADV': 7, 'CL': 3, 'N': 4, 'C': 5, 'A': 8, 'V': 2, 'P': 10, 'PONCT': 9, 'ET': 13, 'PREF': 11, 'P+PRO': 12, 'I': 14}\n"
     ]
    }
   ],
   "source": [
    "x_set = set([])\n",
    "y_set = set([])\n",
    "init_token = \"__START__\"\n",
    "for x in X:\n",
    "    x_set.update(x)\n",
    "for y in Y:\n",
    "    y_set.update(y)\n",
    "rev_x_codes = [init_token]\n",
    "rev_x_codes.extend(list(x_set))\n",
    "rev_y_codes = list(y_set)\n",
    "x_codes     = dict((x,idx) for idx,x in enumerate(rev_x_codes))\n",
    "y_codes     = dict((y,idx) for idx,y in enumerate(rev_y_codes))\n",
    "print(y_codes)\n",
    "\n"
   ]
  },
  {
   "cell_type": "code",
   "execution_count": 7,
   "metadata": {
    "collapsed": false
   },
   "outputs": [],
   "source": [
    "Xcodes = []\n",
    "for x in X:\n",
    "    Xcodes.append([x_codes[elt] for elt in x])\n",
    "Ycodes = []\n",
    "for y in Y:\n",
    "    ymat = np.zeros((len(y),len(y_codes)))\n",
    "    for idx,elt in enumerate(y):\n",
    "        ymat[idx,y_codes[elt]] = 1.0\n",
    "    Ycodes.append(ymat)"
   ]
  },
  {
   "cell_type": "code",
   "execution_count": 8,
   "metadata": {
    "collapsed": false
   },
   "outputs": [
    {
     "name": "stdout",
     "output_type": "stream",
     "text": [
      "[1029, 5424, 3127, 6400, 7968, 4476, 2242, 2327, 3928, 5534, 746, 1690, 5534, 8991, 9792, 7551, 5534, 3441, 9673, 4696, 4506, 8872] [[ 0.  0.  0.  0.  0.  0.  1.  0.  0.  0.  0.  0.  0.  0.  0.]\n",
      " [ 0.  0.  0.  0.  1.  0.  0.  0.  0.  0.  0.  0.  0.  0.  0.]\n",
      " [ 0.  0.  0.  1.  0.  0.  0.  0.  0.  0.  0.  0.  0.  0.  0.]\n",
      " [ 0.  0.  1.  0.  0.  0.  0.  0.  0.  0.  0.  0.  0.  0.  0.]\n",
      " [ 0.  0.  0.  0.  0.  1.  0.  0.  0.  0.  0.  0.  0.  0.  0.]\n",
      " [ 0.  0.  0.  0.  0.  0.  0.  0.  0.  0.  1.  0.  0.  0.  0.]\n",
      " [ 0.  0.  0.  0.  0.  0.  1.  0.  0.  0.  0.  0.  0.  0.  0.]\n",
      " [ 0.  0.  0.  0.  0.  0.  0.  0.  1.  0.  0.  0.  0.  0.  0.]\n",
      " [ 0.  0.  0.  0.  1.  0.  0.  0.  0.  0.  0.  0.  0.  0.  0.]\n",
      " [ 0.  0.  0.  0.  0.  0.  0.  0.  0.  1.  0.  0.  0.  0.  0.]\n",
      " [ 0.  0.  0.  0.  0.  0.  0.  0.  0.  0.  1.  0.  0.  0.  0.]\n",
      " [ 0.  0.  0.  0.  1.  0.  0.  0.  0.  0.  0.  0.  0.  0.  0.]\n",
      " [ 0.  0.  0.  0.  0.  0.  0.  0.  0.  1.  0.  0.  0.  0.  0.]\n",
      " [ 0.  0.  0.  0.  0.  0.  0.  0.  0.  0.  1.  0.  0.  0.  0.]\n",
      " [ 0.  0.  0.  0.  0.  0.  0.  0.  1.  0.  0.  0.  0.  0.  0.]\n",
      " [ 0.  0.  0.  0.  1.  0.  0.  0.  0.  0.  0.  0.  0.  0.  0.]\n",
      " [ 0.  0.  0.  0.  0.  0.  0.  0.  0.  1.  0.  0.  0.  0.  0.]\n",
      " [ 0.  0.  0.  0.  0.  0.  1.  0.  0.  0.  0.  0.  0.  0.  0.]\n",
      " [ 0.  0.  0.  0.  1.  0.  0.  0.  0.  0.  0.  0.  0.  0.  0.]\n",
      " [ 0.  0.  0.  0.  0.  0.  0.  0.  1.  0.  0.  0.  0.  0.  0.]\n",
      " [ 0.  0.  1.  0.  0.  0.  0.  0.  0.  0.  0.  0.  0.  0.  0.]\n",
      " [ 0.  0.  0.  0.  0.  0.  0.  0.  0.  1.  0.  0.  0.  0.  0.]]\n"
     ]
    }
   ],
   "source": [
    "print(Xcodes[1],Ycodes[1])"
   ]
  },
  {
   "cell_type": "markdown",
   "metadata": {},
   "source": [
    "Padding et troncation...\n",
    "-------------------------"
   ]
  },
  {
   "cell_type": "code",
   "execution_count": 9,
   "metadata": {
    "collapsed": false
   },
   "outputs": [
    {
     "name": "stdout",
     "output_type": "stream",
     "text": [
      "21\n"
     ]
    }
   ],
   "source": [
    "L = [len(y) for y in Ycodes]\n",
    "mL = int(sum(L)/len(L))\n",
    "print(mL) #longueur moyenne\n",
    "Xcodes = pad_sequences(Xcodes,maxlen=mL)\n",
    "Ycodes = pad_sequences(Ycodes,maxlen=mL)"
   ]
  },
  {
   "cell_type": "markdown",
   "metadata": {},
   "source": [
    "Structure du modèle\n",
    "==================="
   ]
  },
  {
   "cell_type": "code",
   "execution_count": 10,
   "metadata": {
    "collapsed": false
   },
   "outputs": [
    {
     "name": "stdout",
     "output_type": "stream",
     "text": [
      "_________________________________________________________________\n",
      "Layer (type)                 Output Shape              Param #   \n",
      "=================================================================\n",
      "embedding_1 (Embedding)      (None, None, 50)          518950    \n",
      "_________________________________________________________________\n",
      "bidirectional_1 (Bidirection (None, None, 100)         40400     \n",
      "_________________________________________________________________\n",
      "time_distributed_1 (TimeDist (None, None, 15)          1515      \n",
      "=================================================================\n",
      "Total params: 560,865\n",
      "Trainable params: 560,865\n",
      "Non-trainable params: 0\n",
      "_________________________________________________________________\n"
     ]
    }
   ],
   "source": [
    "x_size = len(x_codes)\n",
    "y_size = len(y_codes)\n",
    "embedding_size = 50\n",
    "memory_size    = 50\n",
    "model = Sequential()\n",
    "model.add(Embedding(x_size,embedding_size))\n",
    "model.add(Bidirectional(LSTM(memory_size,return_sequences=True))) #bi-LSTM\n",
    "#model.add(LSTM(memory_size,return_sequences=True))               #simple LSTM\n",
    "model.add(TimeDistributed(Dense(y_size, activation='softmax'))) \n",
    "model.summary()"
   ]
  },
  {
   "cell_type": "markdown",
   "metadata": {},
   "source": [
    "Descente de gradient\n",
    "===================="
   ]
  },
  {
   "cell_type": "code",
   "execution_count": 11,
   "metadata": {
    "collapsed": false,
    "scrolled": true
   },
   "outputs": [
    {
     "name": "stdout",
     "output_type": "stream",
     "text": [
      "Epoch 1/20\n",
      "3099/3099 [==============================] - 6s - loss: 1.4800 - acc: 0.2347     \n",
      "Epoch 2/20\n",
      "3099/3099 [==============================] - 6s - loss: 0.9089 - acc: 0.4838     \n",
      "Epoch 3/20\n",
      "3099/3099 [==============================] - 6s - loss: 0.4586 - acc: 0.5956     \n",
      "Epoch 4/20\n",
      "3099/3099 [==============================] - 6s - loss: 0.2731 - acc: 0.6548     \n",
      "Epoch 5/20\n",
      "3099/3099 [==============================] - 6s - loss: 0.1756 - acc: 0.6819     \n",
      "Epoch 6/20\n",
      "3099/3099 [==============================] - 6s - loss: 0.1170 - acc: 0.6968     \n",
      "Epoch 7/20\n",
      "3099/3099 [==============================] - 6s - loss: 0.0808 - acc: 0.7058     \n",
      "Epoch 8/20\n",
      "3099/3099 [==============================] - 6s - loss: 0.0577 - acc: 0.7120     \n",
      "Epoch 9/20\n",
      "3099/3099 [==============================] - 6s - loss: 0.0428 - acc: 0.7155     \n",
      "Epoch 10/20\n",
      "3099/3099 [==============================] - 6s - loss: 0.0329 - acc: 0.7178     \n",
      "Epoch 11/20\n",
      "3099/3099 [==============================] - 6s - loss: 0.0257 - acc: 0.7197     \n",
      "Epoch 12/20\n",
      "3099/3099 [==============================] - 6s - loss: 0.0203 - acc: 0.7210     \n",
      "Epoch 13/20\n",
      "3099/3099 [==============================] - 6s - loss: 0.0161 - acc: 0.7222     \n",
      "Epoch 14/20\n",
      "3099/3099 [==============================] - 6s - loss: 0.0128 - acc: 0.7229     \n",
      "Epoch 15/20\n",
      "3099/3099 [==============================] - 7s - loss: 0.0103 - acc: 0.7236     \n",
      "Epoch 16/20\n",
      "3099/3099 [==============================] - 6s - loss: 0.0080 - acc: 0.7241     \n",
      "Epoch 17/20\n",
      "3099/3099 [==============================] - 6s - loss: 0.0063 - acc: 0.7246     \n",
      "Epoch 18/20\n",
      "3099/3099 [==============================] - 6s - loss: 0.0050 - acc: 0.7248     \n",
      "Epoch 19/20\n",
      "3099/3099 [==============================] - 6s - loss: 0.0039 - acc: 0.7251     \n",
      "Epoch 20/20\n",
      "3099/3099 [==============================] - 6s - loss: 0.0031 - acc: 0.7252     \n"
     ]
    },
    {
     "data": {
      "text/plain": [
       "<keras.callbacks.History at 0x11f48bf60>"
      ]
     },
     "execution_count": 11,
     "metadata": {},
     "output_type": "execute_result"
    }
   ],
   "source": [
    "sgd = RMSprop(lr=0.001)\n",
    "model.compile(optimizer=sgd,loss='categorical_crossentropy',metrics=['accuracy'])\n",
    "model.fit(Xcodes,Ycodes,epochs=20,batch_size=32)"
   ]
  },
  {
   "cell_type": "markdown",
   "metadata": {},
   "source": [
    "Prédictions \n",
    "==========="
   ]
  },
  {
   "cell_type": "markdown",
   "metadata": {
    "collapsed": true
   },
   "source": [
    "(Attention !) Predictions sur les données d'entrainement..."
   ]
  },
  {
   "cell_type": "code",
   "execution_count": 13,
   "metadata": {
    "collapsed": false
   },
   "outputs": [
    {
     "data": {
      "text/plain": [
       "0.96167365434294672"
      ]
     },
     "execution_count": 13,
     "metadata": {},
     "output_type": "execute_result"
    }
   ],
   "source": [
    "def eval_model(x_data,y_ref):\n",
    "    \n",
    "    C = 0\n",
    "    N = 0\n",
    "    for x,yvec in zip(x_data,y_ref):\n",
    "        prob_vec = model.predict(x)\n",
    "        L = [np.argmax(tok_probs) == np.argmax(y) for(y,tok_probs,tok_code) in zip(yvec,prob_vec,x) if tok_code != 0]\n",
    "        C += sum(L)\n",
    "        N += len(L)\n",
    "        \n",
    "    return C/N\n",
    "\n",
    "eval_model(Xcodes,Ycodes)    "
   ]
  },
  {
   "cell_type": "code",
   "execution_count": null,
   "metadata": {
    "collapsed": true
   },
   "outputs": [],
   "source": []
  }
 ],
 "metadata": {
  "anaconda-cloud": {},
  "kernelspec": {
   "display_name": "Python [py35]",
   "language": "python",
   "name": "Python [py35]"
  },
  "language_info": {
   "codemirror_mode": {
    "name": "ipython",
    "version": 3
   },
   "file_extension": ".py",
   "mimetype": "text/x-python",
   "name": "python",
   "nbconvert_exporter": "python",
   "pygments_lexer": "ipython3",
   "version": "3.5.2"
  }
 },
 "nbformat": 4,
 "nbformat_minor": 0
}
