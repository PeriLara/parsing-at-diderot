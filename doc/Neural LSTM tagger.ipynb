{
 "cells": [
  {
   "cell_type": "code",
   "execution_count": 1,
   "metadata": {
    "collapsed": false
   },
   "outputs": [
    {
     "name": "stderr",
     "output_type": "stream",
     "text": [
      "Using TensorFlow backend.\n"
     ]
    }
   ],
   "source": [
    "import numpy as np\n",
    "from keras.models import Sequential\n",
    "from keras.layers import Dense, Activation,Embedding,LSTM, TimeDistributed,Bidirectional\n",
    "from keras.optimizers import RMSprop,SGD\n",
    "from keras.preprocessing.sequence import pad_sequences\n"
   ]
  },
  {
   "cell_type": "markdown",
   "metadata": {},
   "source": [
    "Lecture des données\n",
    "==================="
   ]
  },
  {
   "cell_type": "code",
   "execution_count": 2,
   "metadata": {
    "collapsed": true
   },
   "outputs": [],
   "source": [
    "def read_conll_sentence(istream):\n",
    "    x_seq = []\n",
    "    y_seq = []\n",
    "    line = istream.readline()\n",
    "    while line and not line.isspace():\n",
    "        fields = line.split()\n",
    "        x_seq.append(fields[1])\n",
    "        y_seq.append(fields[3])\n",
    "        line = istream.readline()\n",
    "    return (x_seq,y_seq)"
   ]
  },
  {
   "cell_type": "code",
   "execution_count": 3,
   "metadata": {
    "collapsed": true
   },
   "outputs": [],
   "source": [
    "def read_conll_corpus(filename):\n",
    "    X = []\n",
    "    Y = []\n",
    "    istream = open(filename)\n",
    "    (x,y) = read_conll_sentence(istream)\n",
    "    while x and y:\n",
    "        X.append(x)\n",
    "        Y.append(y)\n",
    "        (x,y) = read_conll_sentence(istream)\n",
    "    istream.close()\n",
    "    return X,Y"
   ]
  },
  {
   "cell_type": "code",
   "execution_count": 4,
   "metadata": {
    "collapsed": true
   },
   "outputs": [],
   "source": [
    "X,Y = read_conll_corpus('../projets-2017-2018/sequoia-corpus.np_conll')"
   ]
  },
  {
   "cell_type": "code",
   "execution_count": 14,
   "metadata": {
    "collapsed": false
   },
   "outputs": [
    {
     "name": "stdout",
     "output_type": "stream",
     "text": [
      "[['Gutenberg'], ['Cette', 'exposition', 'nous', 'apprend', 'que', 'dès', 'le', 'XIIe', 'siècle', ',', 'à', 'Dammarie-sur-Saulx', ',', 'entre', 'autres', 'sites', ',', 'une', 'industrie', 'métallurgique', 'existait', '.'], ['à_peu_près', 'au', 'même', 'moment', 'que', 'Gutenberg', 'inventait', \"l'\", 'imprimerie', ',', 'Gillet', 'Bonnemire', 'créait', 'en', '1450', 'la', 'première', 'forge', 'à', 'Saint-Dizier', ',', 'à', \"l'\", 'actuel', 'emplacement', 'du', 'CHS', '.']] [['N'], ['D', 'N', 'CL', 'V', 'C', 'P', 'D', 'A', 'N', 'PONCT', 'P', 'N', 'PONCT', 'P', 'A', 'N', 'PONCT', 'D', 'N', 'A', 'V', 'PONCT'], ['ADV', 'P+D', 'A', 'N', 'C', 'N', 'V', 'D', 'N', 'PONCT', 'N', 'N', 'V', 'P', 'N', 'D', 'A', 'N', 'P', 'N', 'PONCT', 'P', 'D', 'A', 'N', 'P+D', 'N', 'PONCT']]\n"
     ]
    }
   ],
   "source": [
    "print(X[:3],Y[:3])"
   ]
  },
  {
   "cell_type": "markdown",
   "metadata": {},
   "source": [
    "Codage des données\n",
    "=================="
   ]
  },
  {
   "cell_type": "code",
   "execution_count": 15,
   "metadata": {
    "collapsed": false
   },
   "outputs": [
    {
     "name": "stdout",
     "output_type": "stream",
     "text": [
      "{'C': 0, 'D': 1, 'PRO': 2, 'CL': 4, 'I': 7, 'P+PRO': 8, 'ADV': 5, 'ET': 9, 'N': 10, 'V': 6, 'PONCT': 11, 'P+D': 12, 'P': 14, 'A': 13, 'PREF': 3}\n"
     ]
    }
   ],
   "source": [
    "x_set = set([])\n",
    "y_set = set([])\n",
    "init_token = \"__START__\"\n",
    "for x in X:\n",
    "    x_set.update(x)\n",
    "for y in Y:\n",
    "    y_set.update(y)\n",
    "rev_x_codes = [init_token]\n",
    "rev_x_codes.extend(list(x_set))\n",
    "rev_y_codes = list(y_set)\n",
    "x_codes     = dict((x,idx) for idx,x in enumerate(rev_x_codes))\n",
    "y_codes     = dict((y,idx) for idx,y in enumerate(rev_y_codes))\n",
    "print(y_codes)\n",
    "\n"
   ]
  },
  {
   "cell_type": "code",
   "execution_count": 26,
   "metadata": {
    "collapsed": false
   },
   "outputs": [],
   "source": [
    "Xcodes = []\n",
    "for x in X:\n",
    "    Xcodes.append([x_codes[elt] for elt in x])\n",
    "Ycodes = []\n",
    "for y in Y:\n",
    "    ymat = np.zeros((len(y),len(y_codes)))\n",
    "    for idx,elt in enumerate(y):\n",
    "        ymat[idx,y_codes[elt]] = 1.0\n",
    "    Ycodes.append(ymat)"
   ]
  },
  {
   "cell_type": "markdown",
   "metadata": {},
   "source": [
    "Padding et troncation...\n",
    "-------------------------"
   ]
  },
  {
   "cell_type": "code",
   "execution_count": 28,
   "metadata": {
    "collapsed": false
   },
   "outputs": [
    {
     "name": "stdout",
     "output_type": "stream",
     "text": [
      "21\n"
     ]
    }
   ],
   "source": [
    "L = [len(y) for y in Ycodes]\n",
    "mL = int(sum(L)/len(L))\n",
    "print(mL) #longueur moyenne\n",
    "Xcodes = pad_sequences(Xcodes,maxlen=mL)\n",
    "Ycodes = pad_sequences(Ycodes,maxlen=mL)"
   ]
  },
  {
   "cell_type": "markdown",
   "metadata": {},
   "source": [
    "Structure du modèle\n",
    "==================="
   ]
  },
  {
   "cell_type": "code",
   "execution_count": 9,
   "metadata": {
    "collapsed": false
   },
   "outputs": [
    {
     "name": "stdout",
     "output_type": "stream",
     "text": [
      "_________________________________________________________________\n",
      "Layer (type)                 Output Shape              Param #   \n",
      "=================================================================\n",
      "embedding_1 (Embedding)      (None, None, 50)          518950    \n",
      "_________________________________________________________________\n",
      "bidirectional_1 (Bidirection (None, None, 100)         40400     \n",
      "_________________________________________________________________\n",
      "time_distributed_1 (TimeDist (None, None, 15)          1515      \n",
      "=================================================================\n",
      "Total params: 560,865\n",
      "Trainable params: 560,865\n",
      "Non-trainable params: 0\n",
      "_________________________________________________________________\n"
     ]
    }
   ],
   "source": [
    "x_size = len(x_codes)\n",
    "y_size = len(y_codes)\n",
    "embedding_size = 75\n",
    "memory_size    = 50\n",
    "model = Sequential()\n",
    "model.add(Embedding(x_size,embedding_size))\n",
    "model.add(Bidirectional(LSTM(memory_size,return_sequences=True))) #bi-LSTM\n",
    "#model.add(LSTM(memory_size,return_sequences=True))               #simple LSTM\n",
    "model.add(TimeDistributed(Dense(y_size, activation='softmax'))) \n",
    "model.summary()"
   ]
  },
  {
   "cell_type": "markdown",
   "metadata": {},
   "source": [
    "Descente de gradient\n",
    "===================="
   ]
  },
  {
   "cell_type": "code",
   "execution_count": 31,
   "metadata": {
    "collapsed": false,
    "scrolled": true
   },
   "outputs": [
    {
     "name": "stdout",
     "output_type": "stream",
     "text": [
      "Epoch 1/30\n",
      "3099/3099 [==============================] - 6s - loss: 5.6081e-04 - acc: 0.7283     \n",
      "Epoch 2/30\n",
      "3099/3099 [==============================] - 6s - loss: 4.9352e-04 - acc: 0.7273     \n",
      "Epoch 3/30\n",
      "3099/3099 [==============================] - 6s - loss: 4.4944e-04 - acc: 0.7289     \n",
      "Epoch 4/30\n",
      "3099/3099 [==============================] - 5s - loss: 4.1959e-04 - acc: 0.7282     \n",
      "Epoch 5/30\n",
      "3099/3099 [==============================] - 5s - loss: 3.7435e-04 - acc: 0.7291     \n",
      "Epoch 6/30\n",
      "3099/3099 [==============================] - 6s - loss: 3.7883e-04 - acc: 0.7299     \n",
      "Epoch 7/30\n",
      "3099/3099 [==============================] - 6s - loss: 3.6983e-04 - acc: 0.7311     \n",
      "Epoch 8/30\n",
      "3099/3099 [==============================] - 6s - loss: 3.5136e-04 - acc: 0.7283     \n",
      "Epoch 9/30\n",
      "3099/3099 [==============================] - 6s - loss: 2.8891e-04 - acc: 0.7284     \n",
      "Epoch 10/30\n",
      "3099/3099 [==============================] - 6s - loss: 3.4635e-04 - acc: 0.7284     \n",
      "Epoch 11/30\n",
      "3099/3099 [==============================] - 6s - loss: 2.9124e-04 - acc: 0.7293     \n",
      "Epoch 12/30\n",
      "3099/3099 [==============================] - 6s - loss: 3.5963e-04 - acc: 0.7284     \n",
      "Epoch 13/30\n",
      "3099/3099 [==============================] - 7s - loss: 3.5743e-04 - acc: 0.7278     \n",
      "Epoch 14/30\n",
      "3099/3099 [==============================] - 8s - loss: 3.3329e-04 - acc: 0.7283     \n",
      "Epoch 15/30\n",
      "3099/3099 [==============================] - 8s - loss: 3.4878e-04 - acc: 0.7284     \n",
      "Epoch 16/30\n",
      "3099/3099 [==============================] - 8s - loss: 3.1054e-04 - acc: 0.7302     \n",
      "Epoch 17/30\n",
      "3099/3099 [==============================] - 8s - loss: 3.2020e-04 - acc: 0.7281     \n",
      "Epoch 18/30\n",
      "3099/3099 [==============================] - 8s - loss: 3.4448e-04 - acc: 0.7273     \n",
      "Epoch 19/30\n",
      "3099/3099 [==============================] - 8s - loss: 3.3783e-04 - acc: 0.7270     \n",
      "Epoch 20/30\n",
      "3099/3099 [==============================] - 8s - loss: 3.1970e-04 - acc: 0.7277     \n",
      "Epoch 21/30\n",
      "3099/3099 [==============================] - 7s - loss: 3.4548e-04 - acc: 0.7274     \n",
      "Epoch 22/30\n",
      "3099/3099 [==============================] - 8s - loss: 3.1044e-04 - acc: 0.7291     \n",
      "Epoch 23/30\n",
      "3099/3099 [==============================] - 8s - loss: 3.0678e-04 - acc: 0.7274     \n",
      "Epoch 24/30\n",
      "3099/3099 [==============================] - 8s - loss: 3.3289e-04 - acc: 0.7267     \n",
      "Epoch 25/30\n",
      "3099/3099 [==============================] - 8s - loss: 3.1954e-04 - acc: 0.7278     \n",
      "Epoch 26/30\n",
      "3099/3099 [==============================] - 8s - loss: 3.2055e-04 - acc: 0.7299     \n",
      "Epoch 27/30\n",
      "3099/3099 [==============================] - 8s - loss: 3.0976e-04 - acc: 0.7288     \n",
      "Epoch 28/30\n",
      "3099/3099 [==============================] - 8s - loss: 3.0838e-04 - acc: 0.7286     \n",
      "Epoch 29/30\n",
      "3099/3099 [==============================] - 8s - loss: 3.0574e-04 - acc: 0.7279     \n",
      "Epoch 30/30\n",
      "3099/3099 [==============================] - 8s - loss: 3.0525e-04 - acc: 0.7281     \n"
     ]
    },
    {
     "data": {
      "text/plain": [
       "<keras.callbacks.History at 0x120054cc0>"
      ]
     },
     "execution_count": 31,
     "metadata": {},
     "output_type": "execute_result"
    }
   ],
   "source": [
    "sgd = RMSprop(lr=0.001)\n",
    "model.compile(optimizer=sgd,loss='categorical_crossentropy',metrics=['accuracy'])\n",
    "model.fit(Xcodes,Ycodes,epochs=30,batch_size=32)"
   ]
  },
  {
   "cell_type": "markdown",
   "metadata": {},
   "source": [
    "Prédictions \n",
    "==========="
   ]
  },
  {
   "cell_type": "markdown",
   "metadata": {
    "collapsed": true
   },
   "source": [
    "(Attention !) Predictions sur les données d'entrainement..."
   ]
  },
  {
   "cell_type": "code",
   "execution_count": 21,
   "metadata": {
    "collapsed": false
   },
   "outputs": [
    {
     "data": {
      "text/plain": [
       "0.96023376953373141"
      ]
     },
     "execution_count": 21,
     "metadata": {},
     "output_type": "execute_result"
    }
   ],
   "source": [
    "def eval_model(x_data,y_ref):\n",
    "    \n",
    "    C = 0\n",
    "    N = 0\n",
    "    for x,yvec in zip(x_data,y_ref):\n",
    "        prob_vec = model.predict(x)\n",
    "        L = [np.argmax(tok_probs) == np.argmax(y) for(y,tok_probs,tok_code) in zip(yvec,prob_vec,x) if tok_code != 0]\n",
    "        C += sum(L)\n",
    "        N += len(L)\n",
    "        \n",
    "    return C/N\n",
    "\n",
    "eval_model(Xcodes,Ycodes)    "
   ]
  },
  {
   "cell_type": "markdown",
   "metadata": {
    "collapsed": true
   },
   "source": [
    "Illustration (données entrainement parfois tronquées) :"
   ]
  },
  {
   "cell_type": "code",
   "execution_count": 30,
   "metadata": {
    "collapsed": false
   },
   "outputs": [
    {
     "name": "stdout",
     "output_type": "stream",
     "text": [
      "Gutenberg N\n",
      "\n",
      "exposition N\n",
      "nous CL\n",
      "apprend V\n",
      "que C\n",
      "dès P\n",
      "le D\n",
      "XIIe PONCT\n",
      "siècle N\n",
      ", PONCT\n",
      "à P\n",
      "Dammarie-sur-Saulx N\n",
      ", PONCT\n",
      "entre P\n",
      "autres A\n",
      "sites N\n",
      ", PONCT\n",
      "une D\n",
      "industrie N\n",
      "métallurgique A\n",
      "existait V\n",
      ". PONCT\n",
      "\n",
      "l' D\n",
      "imprimerie N\n",
      ", PONCT\n",
      "Gillet N\n",
      "Bonnemire N\n",
      "créait V\n",
      "en P\n",
      "1450 N\n",
      "la D\n",
      "première A\n",
      "forge N\n",
      "à P\n",
      "Saint-Dizier N\n",
      ", PONCT\n",
      "à P\n",
      "l' D\n",
      "actuel A\n",
      "emplacement N\n",
      "du P+D\n",
      "CHS N\n",
      ". PONCT\n",
      "\n",
      "Ensuite ADV\n",
      ", PONCT\n",
      "fut V\n",
      "installée V\n",
      "une D\n",
      "autre A\n",
      "forge N\n",
      "à P\n",
      "la D\n",
      "Vacquerie N\n",
      ", PONCT\n",
      "à P\n",
      "l' D\n",
      "emplacement N\n",
      "aujourd'_hui ADV\n",
      "de P\n",
      "Cora N\n",
      ". PONCT\n",
      "\n",
      "de P\n",
      "la D\n",
      "Marne A\n",
      "ou_bien C\n",
      "en P\n",
      "aval N\n",
      "de P\n",
      "la D\n",
      "Marne A\n",
      "- PONCT\n",
      ", PONCT\n",
      "une D\n",
      "forge N\n",
      "qui PRO\n",
      "connut V\n",
      "son D\n",
      "apogée N\n",
      "au P+D\n",
      "XIXe PONCT\n",
      "siècle N\n",
      ". PONCT\n",
      "\n"
     ]
    }
   ],
   "source": [
    "for x in Xcodes[:5]:\n",
    "    probs = model.predict(x)\n",
    "    for xc,yprob in zip(x,probs):\n",
    "        if xc != 0:\n",
    "            print(rev_x_codes[xc],rev_y_codes[np.argmax(yprob)])\n",
    "    print()"
   ]
  },
  {
   "cell_type": "code",
   "execution_count": null,
   "metadata": {
    "collapsed": true
   },
   "outputs": [],
   "source": []
  }
 ],
 "metadata": {
  "anaconda-cloud": {},
  "kernelspec": {
   "display_name": "Python [py35]",
   "language": "python",
   "name": "Python [py35]"
  },
  "language_info": {
   "codemirror_mode": {
    "name": "ipython",
    "version": 3
   },
   "file_extension": ".py",
   "mimetype": "text/x-python",
   "name": "python",
   "nbconvert_exporter": "python",
   "pygments_lexer": "ipython3",
   "version": "3.5.2"
  }
 },
 "nbformat": 4,
 "nbformat_minor": 0
}
