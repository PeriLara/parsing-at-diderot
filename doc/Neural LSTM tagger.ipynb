{
 "cells": [
  {
   "cell_type": "code",
   "execution_count": 1,
   "metadata": {
    "collapsed": false
   },
   "outputs": [
    {
     "name": "stderr",
     "output_type": "stream",
     "text": [
      "Using TensorFlow backend.\n"
     ]
    }
   ],
   "source": [
    "import numpy as np\n",
    "from keras.models import Sequential\n",
    "from keras.layers import Dense, Activation, Flatten,Embedding,LSTM, TimeDistributed\n",
    "from keras.optimizers import RMSprop,SGD\n",
    "from keras.preprocessing.sequence import pad_sequences\n"
   ]
  },
  {
   "cell_type": "markdown",
   "metadata": {},
   "source": [
    "Lecture des données\n",
    "==================="
   ]
  },
  {
   "cell_type": "code",
   "execution_count": 2,
   "metadata": {
    "collapsed": true
   },
   "outputs": [],
   "source": [
    "def read_conll_sentence(istream):\n",
    "    x_seq = []\n",
    "    y_seq = []\n",
    "    line = istream.readline()\n",
    "    while line and not line.isspace():\n",
    "        fields = line.split()\n",
    "        x_seq.append(fields[1])\n",
    "        y_seq.append(fields[3])\n",
    "        line = istream.readline()\n",
    "    return (x_seq,y_seq)"
   ]
  },
  {
   "cell_type": "code",
   "execution_count": 3,
   "metadata": {
    "collapsed": true
   },
   "outputs": [],
   "source": [
    "def read_conll_corpus(filename):\n",
    "    X = []\n",
    "    Y = []\n",
    "    istream = open(filename)\n",
    "    (x,y) = read_conll_sentence(istream)\n",
    "    while x and y:\n",
    "        X.append(x)\n",
    "        Y.append(y)\n",
    "        (x,y) = read_conll_sentence(istream)\n",
    "    istream.close()\n",
    "    return X,Y"
   ]
  },
  {
   "cell_type": "code",
   "execution_count": 4,
   "metadata": {
    "collapsed": true
   },
   "outputs": [],
   "source": [
    "X,Y = read_conll_corpus('../projets-2017-2018/sequoia-corpus.np_conll')"
   ]
  },
  {
   "cell_type": "code",
   "execution_count": 5,
   "metadata": {
    "collapsed": false
   },
   "outputs": [
    {
     "name": "stdout",
     "output_type": "stream",
     "text": [
      "[['Gutenberg'], ['Cette', 'exposition', 'nous', 'apprend', 'que', 'dès', 'le', 'XIIe', 'siècle', ',', 'à', 'Dammarie-sur-Saulx', ',', 'entre', 'autres', 'sites', ',', 'une', 'industrie', 'métallurgique', 'existait', '.']] [['N'], ['D', 'N', 'CL', 'V', 'C', 'P', 'D', 'A', 'N', 'PONCT', 'P', 'N', 'PONCT', 'P', 'A', 'N', 'PONCT', 'D', 'N', 'A', 'V', 'PONCT']]\n"
     ]
    }
   ],
   "source": [
    "print(X[:2],Y[:2])"
   ]
  },
  {
   "cell_type": "markdown",
   "metadata": {},
   "source": [
    "Codage des données\n",
    "=================="
   ]
  },
  {
   "cell_type": "code",
   "execution_count": 6,
   "metadata": {
    "collapsed": false
   },
   "outputs": [
    {
     "name": "stdout",
     "output_type": "stream",
     "text": [
      "{'PONCT': 0, 'V': 8, 'P': 9, 'I': 2, 'PRO': 3, 'N': 12, 'D': 6, 'P+D': 7, 'P+PRO': 13, 'A': 10, 'C': 4, 'CL': 11, 'PREF': 1, 'ADV': 14, 'ET': 5}\n"
     ]
    }
   ],
   "source": [
    "x_set = set([])\n",
    "y_set = set([])\n",
    "init_token = \"__START__\"\n",
    "for x in X:\n",
    "    x_set.update(x)\n",
    "for y in Y:\n",
    "    y_set.update(y)\n",
    "rev_x_codes = [init_token]\n",
    "rev_x_codes.extend(list(x_set))\n",
    "rev_y_codes = list(y_set)\n",
    "x_codes     = dict((x,idx) for idx,x in enumerate(rev_x_codes))\n",
    "y_codes     = dict((y,idx) for idx,y in enumerate(rev_y_codes))\n",
    "print(y_codes)\n",
    "\n"
   ]
  },
  {
   "cell_type": "code",
   "execution_count": 7,
   "metadata": {
    "collapsed": false
   },
   "outputs": [],
   "source": [
    "Xcodes = []\n",
    "for x in X:\n",
    "    Xcodes.append([x_codes[elt] for elt in x])\n",
    "Ycodes = []\n",
    "for y in Y:\n",
    "    ymat = np.zeros((len(y),len(y_codes)))\n",
    "    for idx,elt in enumerate(y):\n",
    "        ymat[idx,y_codes[elt]] = 1.0\n",
    "    Ycodes.append(ymat)"
   ]
  },
  {
   "cell_type": "code",
   "execution_count": 8,
   "metadata": {
    "collapsed": false
   },
   "outputs": [
    {
     "name": "stdout",
     "output_type": "stream",
     "text": [
      "[7946, 2368, 7379, 624, 1006, 8543, 778, 2882, 7592, 8680, 5708, 374, 8680, 2414, 355, 2409, 8680, 7574, 6713, 4878, 7546, 5030] [[ 0.  0.  0.  0.  0.  0.  1.  0.  0.  0.  0.  0.  0.  0.  0.]\n",
      " [ 0.  0.  0.  0.  0.  0.  0.  0.  0.  0.  0.  0.  1.  0.  0.]\n",
      " [ 0.  0.  0.  0.  0.  0.  0.  0.  0.  0.  0.  1.  0.  0.  0.]\n",
      " [ 0.  0.  0.  0.  0.  0.  0.  0.  1.  0.  0.  0.  0.  0.  0.]\n",
      " [ 0.  0.  0.  0.  1.  0.  0.  0.  0.  0.  0.  0.  0.  0.  0.]\n",
      " [ 0.  0.  0.  0.  0.  0.  0.  0.  0.  1.  0.  0.  0.  0.  0.]\n",
      " [ 0.  0.  0.  0.  0.  0.  1.  0.  0.  0.  0.  0.  0.  0.  0.]\n",
      " [ 0.  0.  0.  0.  0.  0.  0.  0.  0.  0.  1.  0.  0.  0.  0.]\n",
      " [ 0.  0.  0.  0.  0.  0.  0.  0.  0.  0.  0.  0.  1.  0.  0.]\n",
      " [ 1.  0.  0.  0.  0.  0.  0.  0.  0.  0.  0.  0.  0.  0.  0.]\n",
      " [ 0.  0.  0.  0.  0.  0.  0.  0.  0.  1.  0.  0.  0.  0.  0.]\n",
      " [ 0.  0.  0.  0.  0.  0.  0.  0.  0.  0.  0.  0.  1.  0.  0.]\n",
      " [ 1.  0.  0.  0.  0.  0.  0.  0.  0.  0.  0.  0.  0.  0.  0.]\n",
      " [ 0.  0.  0.  0.  0.  0.  0.  0.  0.  1.  0.  0.  0.  0.  0.]\n",
      " [ 0.  0.  0.  0.  0.  0.  0.  0.  0.  0.  1.  0.  0.  0.  0.]\n",
      " [ 0.  0.  0.  0.  0.  0.  0.  0.  0.  0.  0.  0.  1.  0.  0.]\n",
      " [ 1.  0.  0.  0.  0.  0.  0.  0.  0.  0.  0.  0.  0.  0.  0.]\n",
      " [ 0.  0.  0.  0.  0.  0.  1.  0.  0.  0.  0.  0.  0.  0.  0.]\n",
      " [ 0.  0.  0.  0.  0.  0.  0.  0.  0.  0.  0.  0.  1.  0.  0.]\n",
      " [ 0.  0.  0.  0.  0.  0.  0.  0.  0.  0.  1.  0.  0.  0.  0.]\n",
      " [ 0.  0.  0.  0.  0.  0.  0.  0.  1.  0.  0.  0.  0.  0.  0.]\n",
      " [ 1.  0.  0.  0.  0.  0.  0.  0.  0.  0.  0.  0.  0.  0.  0.]]\n"
     ]
    }
   ],
   "source": [
    "print(Xcodes[1],Ycodes[1])"
   ]
  },
  {
   "cell_type": "markdown",
   "metadata": {},
   "source": [
    "Padding et troncation...\n",
    "-------------------------"
   ]
  },
  {
   "cell_type": "code",
   "execution_count": 9,
   "metadata": {
    "collapsed": false
   },
   "outputs": [
    {
     "name": "stdout",
     "output_type": "stream",
     "text": [
      "21.632139399806388\n"
     ]
    }
   ],
   "source": [
    "L = [len(y) for y in Ycodes]\n",
    "mL = sum(L)/len(L)\n",
    "print(mL) #longueur moyenne\n",
    "Xcodes = pad_sequences(Xcodes,maxlen=40)\n",
    "Ycodes = pad_sequences(Ycodes,maxlen=40)"
   ]
  },
  {
   "cell_type": "markdown",
   "metadata": {},
   "source": [
    "Structure du modèle\n",
    "==================="
   ]
  },
  {
   "cell_type": "code",
   "execution_count": 10,
   "metadata": {
    "collapsed": false
   },
   "outputs": [
    {
     "name": "stdout",
     "output_type": "stream",
     "text": [
      "_________________________________________________________________\n",
      "Layer (type)                 Output Shape              Param #   \n",
      "=================================================================\n",
      "embedding_1 (Embedding)      (None, None, 50)          518950    \n",
      "_________________________________________________________________\n",
      "lstm_1 (LSTM)                (None, None, 30)          9720      \n",
      "_________________________________________________________________\n",
      "time_distributed_1 (TimeDist (None, None, 15)          465       \n",
      "=================================================================\n",
      "Total params: 529,135\n",
      "Trainable params: 529,135\n",
      "Non-trainable params: 0\n",
      "_________________________________________________________________\n"
     ]
    }
   ],
   "source": [
    "x_size = len(x_codes)\n",
    "y_size = len(y_codes)\n",
    "embedding_size = 50\n",
    "memory_size    = 30\n",
    "model = Sequential()\n",
    "model.add(Embedding(x_size,embedding_size))\n",
    "model.add(LSTM(memory_size,return_sequences=True))\n",
    "model.add(TimeDistributed(Dense(y_size, activation='softmax'))) \n",
    "model.summary()"
   ]
  },
  {
   "cell_type": "markdown",
   "metadata": {},
   "source": [
    "Descente de gradient\n",
    "===================="
   ]
  },
  {
   "cell_type": "code",
   "execution_count": 13,
   "metadata": {
    "collapsed": false,
    "scrolled": true
   },
   "outputs": [
    {
     "name": "stdout",
     "output_type": "stream",
     "text": [
      "Epoch 1/20\n",
      "3099/3099 [==============================] - 7s - loss: 0.0418 - acc: 0.4915     \n",
      "Epoch 2/20\n",
      "3099/3099 [==============================] - 8s - loss: 0.0369 - acc: 0.4930     \n",
      "Epoch 3/20\n",
      "3099/3099 [==============================] - 7s - loss: 0.0333 - acc: 0.4938     \n",
      "Epoch 4/20\n",
      "3099/3099 [==============================] - 7s - loss: 0.0302 - acc: 0.4947     \n",
      "Epoch 5/20\n",
      "3099/3099 [==============================] - 7s - loss: 0.0277 - acc: 0.4952     \n",
      "Epoch 6/20\n",
      "3099/3099 [==============================] - 7s - loss: 0.0255 - acc: 0.4958     \n",
      "Epoch 7/20\n",
      "3099/3099 [==============================] - 8s - loss: 0.0236 - acc: 0.4962     \n",
      "Epoch 8/20\n",
      "3099/3099 [==============================] - 7s - loss: 0.0219 - acc: 0.4966     \n",
      "Epoch 9/20\n",
      "3099/3099 [==============================] - 7s - loss: 0.0204 - acc: 0.4969     \n",
      "Epoch 10/20\n",
      "3099/3099 [==============================] - 7s - loss: 0.0190 - acc: 0.4972     \n",
      "Epoch 11/20\n",
      "3099/3099 [==============================] - 7s - loss: 0.0178 - acc: 0.4975     \n",
      "Epoch 12/20\n",
      "3099/3099 [==============================] - 7s - loss: 0.0166 - acc: 0.4978     \n",
      "Epoch 13/20\n",
      "3099/3099 [==============================] - 8s - loss: 0.0156 - acc: 0.4981     \n",
      "Epoch 14/20\n",
      "3099/3099 [==============================] - 8s - loss: 0.0146 - acc: 0.4983     \n",
      "Epoch 15/20\n",
      "3099/3099 [==============================] - 8s - loss: 0.0137 - acc: 0.4985     \n",
      "Epoch 16/20\n",
      "3099/3099 [==============================] - 8s - loss: 0.0129 - acc: 0.4988     \n",
      "Epoch 17/20\n",
      "3099/3099 [==============================] - 9s - loss: 0.0121 - acc: 0.4990     \n",
      "Epoch 18/20\n",
      "3099/3099 [==============================] - 9s - loss: 0.0114 - acc: 0.4992     \n",
      "Epoch 19/20\n",
      "3099/3099 [==============================] - 9s - loss: 0.0107 - acc: 0.4994     \n",
      "Epoch 20/20\n",
      "3099/3099 [==============================] - 9s - loss: 0.0100 - acc: 0.4995     \n"
     ]
    },
    {
     "data": {
      "text/plain": [
       "<keras.callbacks.History at 0x10787cc50>"
      ]
     },
     "execution_count": 13,
     "metadata": {},
     "output_type": "execute_result"
    }
   ],
   "source": [
    "sgd = RMSprop(lr=0.001)\n",
    "model.compile(optimizer=sgd,loss='categorical_crossentropy',metrics=['accuracy'])\n",
    "model.fit(Xcodes,Ycodes,epochs=20,batch_size=32)"
   ]
  },
  {
   "cell_type": "markdown",
   "metadata": {},
   "source": [
    "Prédictions \n",
    "==========="
   ]
  },
  {
   "cell_type": "markdown",
   "metadata": {
    "collapsed": true
   },
   "source": [
    "Predictions sur les données d'entrainement..."
   ]
  },
  {
   "cell_type": "code",
   "execution_count": 14,
   "metadata": {
    "collapsed": false
   },
   "outputs": [
    {
     "data": {
      "text/plain": [
       "0.96409687736046157"
      ]
     },
     "execution_count": 14,
     "metadata": {},
     "output_type": "execute_result"
    }
   ],
   "source": [
    "def eval_model(x_data,y_ref):\n",
    "    \n",
    "    C = 0\n",
    "    N = 0\n",
    "    for x,yvec in zip(x_data,y_ref):\n",
    "        prob_vec = model.predict(x)\n",
    "        L = [np.argmax(tok_probs) == np.argmax(y) for(y,tok_probs,tok_code) in zip(yvec,prob_vec,x) if tok_code != 0]\n",
    "        C += sum(L)\n",
    "        N += len(L)\n",
    "        \n",
    "    return C/N\n",
    "\n",
    "eval_model(Xcodes,Ycodes)    "
   ]
  },
  {
   "cell_type": "code",
   "execution_count": null,
   "metadata": {
    "collapsed": true
   },
   "outputs": [],
   "source": []
  }
 ],
 "metadata": {
  "anaconda-cloud": {},
  "kernelspec": {
   "display_name": "Python [py35]",
   "language": "python",
   "name": "Python [py35]"
  },
  "language_info": {
   "codemirror_mode": {
    "name": "ipython",
    "version": 3
   },
   "file_extension": ".py",
   "mimetype": "text/x-python",
   "name": "python",
   "nbconvert_exporter": "python",
   "pygments_lexer": "ipython3",
   "version": "3.5.2"
  }
 },
 "nbformat": 4,
 "nbformat_minor": 0
}
